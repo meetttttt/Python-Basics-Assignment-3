{
 "cells": [
  {
   "cell_type": "markdown",
   "id": "e8b11b78-0b03-4c96-87c2-e45cf6ac691f",
   "metadata": {},
   "source": [
    "# For Loop :-"
   ]
  },
  {
   "cell_type": "markdown",
   "id": "8ba7d92c-7956-4c4a-9490-0abf10acccc4",
   "metadata": {},
   "source": [
    "1. Write a Python program to print numbers from 1 to 10 using a for loop."
   ]
  },
  {
   "cell_type": "code",
   "execution_count": 1,
   "id": "8b4c20b3-a957-4ed3-945a-72c29ceb4561",
   "metadata": {},
   "outputs": [
    {
     "name": "stdout",
     "output_type": "stream",
     "text": [
      "1\n",
      "2\n",
      "3\n",
      "4\n",
      "5\n",
      "6\n",
      "7\n",
      "8\n",
      "9\n",
      "10\n"
     ]
    }
   ],
   "source": [
    "# This is a Python program that prints numbers from 1 to 10.\n",
    "\n",
    "# We use a for loop to iterate through a range of numbers.\n",
    "# The range function generates a sequence of numbers from 1 to 10 (inclusive).\n",
    "# The loop variable 'i' takes on each of these numbers one at a time.\n",
    "for i in range(1, 11):\n",
    "    # Inside the loop, we print the current value of 'i'.\n",
    "    print(i)\n"
   ]
  },
  {
   "cell_type": "markdown",
   "id": "0162dc66-ee57-424c-9fd7-df4471aeef03",
   "metadata": {},
   "source": [
    "2. Explain the difference between a for loop and a while loop in Python."
   ]
  },
  {
   "cell_type": "markdown",
   "id": "3ec3a3c7-4bbe-46c8-bc5f-7c5e3195e1bb",
   "metadata": {},
   "source": [
    "In Python, both `for` loops and `while` loops are used for repetitive tasks, but they have different structures and use cases. Here's an explanation of the key differences between `for` loops and `while` loops:\n",
    "\n",
    "1. **Control Structure:**\n",
    "\n",
    "   - **For Loop:** A `for` loop is used when you know in advance how many times you want to repeat a block of code. It iterates over a sequence (like a list, tuple, string, or range) or any iterable object.\n",
    "\n",
    "   - **While Loop:** A `while` loop is used when you want to repeat a block of code as long as a specific condition is `True`. It continues to execute until the condition becomes `False`.\n",
    "\n",
    "2. **Initialization and Increment (or Decrement):**\n",
    "\n",
    "   - **For Loop:** In a `for` loop, the loop variable is initialized, and you don't need to explicitly increment or decrement it. The loop variable automatically takes on the next value from the sequence in each iteration.\n",
    "\n",
    "   - **While Loop:** In a `while` loop, you need to initialize a variable before the loop, and you're responsible for updating it within the loop. This is typically done to control when the loop should exit.\n",
    "\n",
    "3. **Use Cases:**\n",
    "\n",
    "   - **For Loop:** Use `for` loops when you have a known and finite number of iterations, such as iterating through elements in a collection (list, tuple, etc.) or when you want to execute a block of code a specific number of times.\n",
    "\n",
    "   - **While Loop:** Use `while` loops when you have a condition that determines when the loop should stop, and you may not know in advance how many iterations will be needed. For example, reading data until the end of a file is reached or implementing a game loop."
   ]
  },
  {
   "cell_type": "markdown",
   "id": "53010735-f9fb-40cc-9da6-77989b3eaf88",
   "metadata": {},
   "source": [
    "4. **Examples:**"
   ]
  },
  {
   "cell_type": "code",
   "execution_count": 2,
   "id": "03714d86-6fb6-4304-b816-b343b2bbfcfe",
   "metadata": {},
   "outputs": [
    {
     "name": "stdout",
     "output_type": "stream",
     "text": [
      "1\n",
      "2\n",
      "3\n",
      "4\n",
      "5\n"
     ]
    }
   ],
   "source": [
    "# For Loop Example:\n",
    "for i in range(1, 6):  # Iterates from 1 to 5\n",
    "         print(i)"
   ]
  },
  {
   "cell_type": "code",
   "execution_count": 4,
   "id": "dc7bfa52-7bf2-48e1-8137-b9fe305cd438",
   "metadata": {},
   "outputs": [
    {
     "name": "stdout",
     "output_type": "stream",
     "text": [
      "1\n",
      "2\n",
      "3\n",
      "4\n",
      "5\n"
     ]
    }
   ],
   "source": [
    "# **While Loop Example:**\n",
    "count = 1\n",
    "while count <= 5:\n",
    "    print(count)\n",
    "    count += 1"
   ]
  },
  {
   "cell_type": "markdown",
   "id": "bed79af2-2644-4eca-9077-b069a2b2ea98",
   "metadata": {},
   "source": [
    "In summary, `for` loops are suitable for situations where you know the number of iterations in advance, while `while` loops are used when you need to continue iterating as long as a specific condition is met. The choice between them depends on the specific problem you're trying to solve."
   ]
  },
  {
   "cell_type": "markdown",
   "id": "2377b6b9-e8ce-4d39-88a2-eb9d84843159",
   "metadata": {},
   "source": [
    "3. Write a Python program to calculate the sum of all numbers from 1 to 100 using a for loop."
   ]
  },
  {
   "cell_type": "code",
   "execution_count": 5,
   "id": "009ccb41-9339-4cb7-828a-6cc99c1437a2",
   "metadata": {},
   "outputs": [
    {
     "name": "stdout",
     "output_type": "stream",
     "text": [
      "The sum of all numbers from 1 to 100 is: 5050\n"
     ]
    }
   ],
   "source": [
    "# Initialize a variable to store the sum\n",
    "total_sum = 0\n",
    "\n",
    "# Use a for loop to iterate from 1 to 100 (inclusive)\n",
    "for i in range(1, 101):\n",
    "    total_sum += i\n",
    "\n",
    "# Print the result\n",
    "print(\"The sum of all numbers from 1 to 100 is:\", total_sum)\n"
   ]
  },
  {
   "cell_type": "markdown",
   "id": "4743f13c-8ee2-4c5c-ad48-ae96b119054e",
   "metadata": {},
   "source": [
    "4. How do you iterate through a list using a for loop in Python?"
   ]
  },
  {
   "cell_type": "code",
   "execution_count": 6,
   "id": "028c4476-86cb-4ae7-aaaf-a292dc0e739c",
   "metadata": {},
   "outputs": [
    {
     "name": "stdout",
     "output_type": "stream",
     "text": [
      "1\n",
      "2\n",
      "3\n",
      "4\n",
      "5\n"
     ]
    }
   ],
   "source": [
    "my_list = [1, 2, 3, 4, 5]\n",
    "\n",
    "for item in my_list:\n",
    "    # Code to process each item in the list\n",
    "    print(item)\n"
   ]
  },
  {
   "cell_type": "markdown",
   "id": "f384ee17-385b-47ac-80b0-38db261f02ce",
   "metadata": {},
   "source": [
    "5. Write a Python program to find the product of all elements in a list using a for loop."
   ]
  },
  {
   "cell_type": "code",
   "execution_count": 7,
   "id": "d433f881-9727-4866-8f27-43814e199261",
   "metadata": {},
   "outputs": [
    {
     "name": "stdout",
     "output_type": "stream",
     "text": [
      "Product of all elements: 120\n"
     ]
    }
   ],
   "source": [
    "# Initialize a list of numbers\n",
    "my_list = [1, 2, 3, 4, 5]\n",
    "\n",
    "# Initialize a variable to store the product\n",
    "product = 1\n",
    "\n",
    "# Iterate through the list and calculate the product\n",
    "for item in my_list:\n",
    "    product *= item\n",
    "\n",
    "# Print the result\n",
    "print(\"Product of all elements:\", product)\n"
   ]
  },
  {
   "cell_type": "markdown",
   "id": "0f329194-8b67-44ee-9214-fb9f11f99e99",
   "metadata": {},
   "source": [
    "6. Create a Python program that prints all even numbers from 1 to 20 using a for loop."
   ]
  },
  {
   "cell_type": "code",
   "execution_count": 8,
   "id": "9128829b-380a-4dcb-a56a-0069242e6797",
   "metadata": {},
   "outputs": [
    {
     "name": "stdout",
     "output_type": "stream",
     "text": [
      "2\n",
      "4\n",
      "6\n",
      "8\n",
      "10\n",
      "12\n",
      "14\n",
      "16\n",
      "18\n",
      "20\n"
     ]
    }
   ],
   "source": [
    "# Iterate through numbers from 1 to 20\n",
    "for num in range(1, 21):\n",
    "    # Check if the number is even\n",
    "    if num % 2 == 0:\n",
    "        print(num)\n"
   ]
  },
  {
   "cell_type": "markdown",
   "id": "6a47625d-0489-4880-a467-03e078b06310",
   "metadata": {},
   "source": [
    "7. Write a Python program that calculates the factorial of a number using a for loop."
   ]
  },
  {
   "cell_type": "code",
   "execution_count": 9,
   "id": "218668c5-f502-432e-9374-f933871d05c1",
   "metadata": {},
   "outputs": [
    {
     "name": "stdin",
     "output_type": "stream",
     "text": [
      "Enter a number:  10\n"
     ]
    },
    {
     "name": "stdout",
     "output_type": "stream",
     "text": [
      "The factorial of 10 is 3628800\n"
     ]
    }
   ],
   "source": [
    "# Input: Get the number from the user\n",
    "num = int(input(\"Enter a number: \"))\n",
    "\n",
    "# Initialize the factorial to 1\n",
    "factorial = 1\n",
    "\n",
    "# Check if the number is negative\n",
    "if num < 0:\n",
    "    print(\"Factorial is not defined for negative numbers.\")\n",
    "elif num == 0:\n",
    "    print(\"The factorial of 0 is 1\")\n",
    "else:\n",
    "    # Calculate the factorial using a for loop\n",
    "    for i in range(1, num + 1):\n",
    "        factorial *= i\n",
    "\n",
    "    # Print the result\n",
    "    print(f\"The factorial of {num} is {factorial}\")\n"
   ]
  },
  {
   "cell_type": "markdown",
   "id": "f3e0c46b-f52c-41d8-8827-3a461e03b54c",
   "metadata": {},
   "source": [
    "8. How can you iterate through the characters of a string using a for loop in Python?"
   ]
  },
  {
   "cell_type": "code",
   "execution_count": 10,
   "id": "68ebe7d1-e2ee-4cd3-8dc8-38dc8ae2b4ef",
   "metadata": {},
   "outputs": [
    {
     "name": "stdout",
     "output_type": "stream",
     "text": [
      "H\n",
      "e\n",
      "l\n",
      "l\n",
      "o\n",
      " \n",
      "W\n",
      "o\n",
      "r\n",
      "l\n",
      "d\n"
     ]
    }
   ],
   "source": [
    "sample_string = \"Hello World\"  # sample string\n",
    "\n",
    "# Iterating through the string\n",
    "for index in sample_string:  \n",
    "    print(index)  # displaying characters of string\n"
   ]
  },
  {
   "cell_type": "markdown",
   "id": "c03c5f0e-1cc3-47d7-84c1-14fe63f2f989",
   "metadata": {},
   "source": [
    "9. Write a Python program to find the largest number in a list using a for loop."
   ]
  },
  {
   "cell_type": "code",
   "execution_count": 11,
   "id": "8eabf3af-4cab-4a9b-8e58-6bbbebf47d9e",
   "metadata": {},
   "outputs": [
    {
     "name": "stdin",
     "output_type": "stream",
     "text": [
      "Enter a list of numbers separated by spaces:  10 20 30 40 50\n"
     ]
    },
    {
     "name": "stdout",
     "output_type": "stream",
     "text": [
      "The largest number in the list is: 50\n"
     ]
    }
   ],
   "source": [
    "# Input: Get a list of numbers from the user\n",
    "num_list = input(\"Enter a list of numbers separated by spaces: \").split()\n",
    "\n",
    "# Convert the input values to integers\n",
    "num_list = [int(num) for num in num_list]\n",
    "\n",
    "# Initialize the maximum to the first element of the list\n",
    "maximum = num_list[0]\n",
    "\n",
    "# Iterate through the list to find the maximum\n",
    "for num in num_list:\n",
    "    if num > maximum:\n",
    "        maximum = num\n",
    "\n",
    "# Print the result\n",
    "print(f\"The largest number in the list is: {maximum}\")\n"
   ]
  },
  {
   "cell_type": "markdown",
   "id": "7a8c10a0-49a0-4b88-89d6-802e1f66f622",
   "metadata": {},
   "source": [
    "10. Create a Python program that prints the Fibonacci sequence up to a specified limit using a for loop."
   ]
  },
  {
   "cell_type": "code",
   "execution_count": 12,
   "id": "ae553955-e64b-4b75-959f-bdba64e5b501",
   "metadata": {},
   "outputs": [
    {
     "name": "stdin",
     "output_type": "stream",
     "text": [
      "Enter the limit for the Fibonacci sequence:  6\n"
     ]
    },
    {
     "name": "stdout",
     "output_type": "stream",
     "text": [
      "Fibonacci sequence up to limit:\n",
      "[0, 1, 1, 2, 3, 5]\n"
     ]
    }
   ],
   "source": [
    "# Input: Get the limit from the user\n",
    "limit = int(input(\"Enter the limit for the Fibonacci sequence: \"))\n",
    "\n",
    "# Initialize the first two Fibonacci numbers\n",
    "fibonacci_sequence = [0, 1]\n",
    "\n",
    "# Use a for loop to generate the Fibonacci sequence\n",
    "for i in range(2, limit):\n",
    "    next_number = fibonacci_sequence[i - 1] + fibonacci_sequence[i - 2]\n",
    "    if next_number <= limit:\n",
    "        fibonacci_sequence.append(next_number)\n",
    "    else:\n",
    "        break\n",
    "\n",
    "# Print the Fibonacci sequence\n",
    "print(\"Fibonacci sequence up to limit:\")\n",
    "print(fibonacci_sequence)\n"
   ]
  },
  {
   "cell_type": "markdown",
   "id": "99662e49-882e-44bf-8663-4db40bd4281e",
   "metadata": {},
   "source": [
    "11. Write a Python program to count the number of vowels in a given string using a for loop."
   ]
  },
  {
   "cell_type": "code",
   "execution_count": 13,
   "id": "92fbd520-b181-43c7-9e80-f754a76b7de6",
   "metadata": {},
   "outputs": [
    {
     "name": "stdin",
     "output_type": "stream",
     "text": [
      "Enter a string:  This is a sample String to test vowel count.\n"
     ]
    },
    {
     "name": "stdout",
     "output_type": "stream",
     "text": [
      "Number of vowels in the string: 12\n"
     ]
    }
   ],
   "source": [
    "# Input: Get a string from the user\n",
    "input_string = input(\"Enter a string: \")\n",
    "\n",
    "# Initialize a variable to store the count of vowels\n",
    "vowel_count = 0\n",
    "\n",
    "# Define a string of vowels for comparison\n",
    "vowels = \"AEIOUaeiou\"\n",
    "\n",
    "# Use a for loop to iterate through each character in the input string\n",
    "for char in input_string:\n",
    "    # Check if the character is a vowel\n",
    "    if char in vowels:\n",
    "        vowel_count += 1\n",
    "\n",
    "# Print the count of vowels in the string\n",
    "print(\"Number of vowels in the string:\", vowel_count)\n"
   ]
  },
  {
   "cell_type": "markdown",
   "id": "a9d45077-9d4a-4113-9a62-62d376438e5b",
   "metadata": {},
   "source": [
    "12. Create a Python program that generates a multiplication table for a given number using a for loop."
   ]
  },
  {
   "cell_type": "code",
   "execution_count": 14,
   "id": "f52d47f7-29d9-4606-83c7-e8aebd26328d",
   "metadata": {},
   "outputs": [
    {
     "name": "stdin",
     "output_type": "stream",
     "text": [
      "Enter a number:  15\n"
     ]
    },
    {
     "name": "stdout",
     "output_type": "stream",
     "text": [
      "Multiplication table for 15:\n",
      "15 x 1 = 15\n",
      "15 x 2 = 30\n",
      "15 x 3 = 45\n",
      "15 x 4 = 60\n",
      "15 x 5 = 75\n",
      "15 x 6 = 90\n",
      "15 x 7 = 105\n",
      "15 x 8 = 120\n",
      "15 x 9 = 135\n",
      "15 x 10 = 150\n"
     ]
    }
   ],
   "source": [
    "# Input: Get a number from the user for which you want to generate the multiplication table\n",
    "num = int(input(\"Enter a number: \"))\n",
    "\n",
    "# Define the range of the multiplication table (e.g., from 1 to 10)\n",
    "start = 1\n",
    "end = 10\n",
    "\n",
    "# Use a for loop to generate and print the multiplication table\n",
    "print(f\"Multiplication table for {num}:\")\n",
    "for i in range(start, end + 1):\n",
    "    result = num * i\n",
    "    print(f\"{num} x {i} = {result}\")\n"
   ]
  },
  {
   "cell_type": "markdown",
   "id": "d81eb760-3b1f-4a69-9292-18c1d24ef8dd",
   "metadata": {},
   "source": [
    "13. Write a Python program to reverse a list using a for loop."
   ]
  },
  {
   "cell_type": "code",
   "execution_count": 15,
   "id": "d818a98d-95c9-41ef-af23-d36fa5b05695",
   "metadata": {},
   "outputs": [
    {
     "name": "stdin",
     "output_type": "stream",
     "text": [
      "Enter a list of elements separated by spaces:  10 20 30 40 50\n"
     ]
    },
    {
     "name": "stdout",
     "output_type": "stream",
     "text": [
      "Reversed List: [50, 40, 30, 20, 10]\n"
     ]
    }
   ],
   "source": [
    "# Input: Get a list of elements from the user\n",
    "input_list = input(\"Enter a list of elements separated by spaces: \").split()\n",
    "\n",
    "# Convert the input elements to a list of integers (you can adjust the data type as needed)\n",
    "original_list = [int(element) for element in input_list]\n",
    "\n",
    "# Initialize an empty list to store the reversed elements\n",
    "reversed_list = []\n",
    "\n",
    "# Use a for loop to reverse the original list\n",
    "for i in range(len(original_list) - 1, -1, -1):\n",
    "    reversed_list.append(original_list[i])\n",
    "\n",
    "# Print the reversed list\n",
    "print(\"Reversed List:\", reversed_list)\n"
   ]
  },
  {
   "cell_type": "markdown",
   "id": "59d693ab-6de5-4583-88f0-4bdadc3ed489",
   "metadata": {},
   "source": [
    "14. Write a Python program to find the common elements between two lists using a for loop."
   ]
  },
  {
   "cell_type": "code",
   "execution_count": 16,
   "id": "98d140c7-6bce-491d-9778-6f328f37f711",
   "metadata": {},
   "outputs": [
    {
     "name": "stdin",
     "output_type": "stream",
     "text": [
      "Enter the first list of elements separated by spaces:  10 20 30\n",
      "Enter the second list of elements separated by spaces:  20 30 40\n"
     ]
    },
    {
     "name": "stdout",
     "output_type": "stream",
     "text": [
      "Common Elements: [20, 30]\n"
     ]
    }
   ],
   "source": [
    "# Input: Get two lists of elements from the user\n",
    "list1 = input(\"Enter the first list of elements separated by spaces: \").split()\n",
    "list2 = input(\"Enter the second list of elements separated by spaces: \").split()\n",
    "\n",
    "# Convert the input elements to lists of integers (you can adjust the data type as needed)\n",
    "list1 = [int(element) for element in list1]\n",
    "list2 = [int(element) for element in list2]\n",
    "\n",
    "# Initialize an empty list to store the common elements\n",
    "common_elements = []\n",
    "\n",
    "# Use a for loop to check for common elements\n",
    "for element in list1:\n",
    "    if element in list2 and element not in common_elements:\n",
    "        common_elements.append(element)\n",
    "\n",
    "# Print the common elements\n",
    "print(\"Common Elements:\", common_elements)\n"
   ]
  },
  {
   "cell_type": "markdown",
   "id": "6bd77408-e2da-41eb-9dca-919d9900045b",
   "metadata": {},
   "source": [
    "15. Explain how to use a for loop to iterate through the keys and values of a dictionary in Python."
   ]
  },
  {
   "cell_type": "code",
   "execution_count": 17,
   "id": "e9ded9c3-2673-46d6-8ec2-06b298964fb0",
   "metadata": {},
   "outputs": [
    {
     "name": "stdout",
     "output_type": "stream",
     "text": [
      "Key: apple, Value: 3\n",
      "Key: banana, Value: 2\n",
      "Key: cherry, Value: 5\n"
     ]
    }
   ],
   "source": [
    "# Create a sample dictionary\n",
    "my_dict = {'apple': 3, 'banana': 2, 'cherry': 5}\n",
    "\n",
    "# Iterate through the keys and values using a for loop\n",
    "for key, value in my_dict.items():\n",
    "    print(f'Key: {key}, Value: {value}')\n"
   ]
  },
  {
   "cell_type": "markdown",
   "id": "3aba8a9d-bb58-4756-9c24-09ae7898668a",
   "metadata": {},
   "source": [
    "- We have a dictionary called my_dict with keys as fruit names and values as the quantity of each fruit.\n",
    "- We use a for loop to iterate through the dictionary using my_dict.items(). The .items() method returns an iterable of key-value pairs as tuples.\n",
    "- In each iteration, key will hold the key (fruit name), and value will hold the corresponding value (quantity).\n",
    "- Inside the loop, we print both the key and value."
   ]
  },
  {
   "cell_type": "markdown",
   "id": "4e3e74db-841e-4e57-a3c2-76e5f6028468",
   "metadata": {},
   "source": [
    "16. Write a Python program to find the GCD (Greatest Common Divisor) of two numbers using a for loop."
   ]
  },
  {
   "cell_type": "code",
   "execution_count": 1,
   "id": "66b7174f-c04e-421d-a195-8a5eee23b347",
   "metadata": {},
   "outputs": [
    {
     "name": "stdin",
     "output_type": "stream",
     "text": [
      "Enter the first number:  245\n",
      "Enter the second number:  240\n"
     ]
    },
    {
     "name": "stdout",
     "output_type": "stream",
     "text": [
      "The GCD of 245 and 240 is 5\n"
     ]
    }
   ],
   "source": [
    "# Function to find the GCD of two numbers\n",
    "def find_gcd(a, b):\n",
    "    while b:\n",
    "        a, b = b, a % b\n",
    "    return a\n",
    "\n",
    "# Input two numbers from the user\n",
    "num1 = int(input(\"Enter the first number: \"))\n",
    "num2 = int(input(\"Enter the second number: \"))\n",
    "\n",
    "# Find and print the GCD\n",
    "gcd = find_gcd(num1, num2)\n",
    "print(f\"The GCD of {num1} and {num2} is {gcd}\")\n"
   ]
  },
  {
   "cell_type": "markdown",
   "id": "e89b3d4f-e902-4f37-9d13-f980ffa64b38",
   "metadata": {},
   "source": [
    "17. Create a Python program that checks if a string is a palindrome using a for loop."
   ]
  },
  {
   "cell_type": "code",
   "execution_count": 3,
   "id": "4c8c7ea2-678a-4887-a8af-845a01547184",
   "metadata": {},
   "outputs": [
    {
     "name": "stdin",
     "output_type": "stream",
     "text": [
      "Enter a string:  A man, a plan, a canal, Panama\n"
     ]
    },
    {
     "name": "stdout",
     "output_type": "stream",
     "text": [
      "A man, a plan, a canal, Panama is a palindrome.\n"
     ]
    }
   ],
   "source": [
    "# Function to check if a string is a palindrome\n",
    "def is_palindrome(input_string):\n",
    "    input_string = input_string.lower()  # Convert the string to lowercase\n",
    "    clean_string = ''.join(filter(str.isalnum, input_string))  # Remove non-alphanumeric characters\n",
    "    reversed_string = clean_string[::-1]  # Reverse the string\n",
    "\n",
    "    for i in range(len(clean_string)):\n",
    "        if clean_string[i] != reversed_string[i]:\n",
    "            return False\n",
    "    return True\n",
    "\n",
    "# Input a string from the user\n",
    "user_input = input(\"Enter a string: \")\n",
    "\n",
    "# Check if it's a palindrome\n",
    "if is_palindrome(user_input):\n",
    "    print(f\"{user_input} is a palindrome.\")\n",
    "else:\n",
    "    print(f\"{user_input} is not a palindrome.\")\n"
   ]
  },
  {
   "cell_type": "markdown",
   "id": "582ea6e6-0190-4362-b149-834fccb9957c",
   "metadata": {},
   "source": [
    "18. Write a Python program to remove duplicates from a list using a for loop."
   ]
  },
  {
   "cell_type": "code",
   "execution_count": 4,
   "id": "f7b74f5f-c25b-4bf6-aadb-c06b63f49f7c",
   "metadata": {},
   "outputs": [
    {
     "name": "stdout",
     "output_type": "stream",
     "text": [
      "Original List: [1, 2, 2, 3, 4, 4, 5]\n",
      "List with Duplicates Removed: [1, 2, 3, 4, 5]\n"
     ]
    }
   ],
   "source": [
    "def remove_duplicates(input_list):\n",
    "    unique_list = []\n",
    "    for item in input_list:\n",
    "        if item not in unique_list:\n",
    "            unique_list.append(item)\n",
    "    return unique_list\n",
    "\n",
    "# Example usage:\n",
    "input_list = [1, 2, 2, 3, 4, 4, 5]\n",
    "result = remove_duplicates(input_list)\n",
    "print(\"Original List:\", input_list)\n",
    "print(\"List with Duplicates Removed:\", result)\n"
   ]
  },
  {
   "cell_type": "markdown",
   "id": "4a2c96bf-3e09-42a4-8331-2eabd5fdfad9",
   "metadata": {},
   "source": [
    "19. Create a Python program that counts the number of words in a sentence using a for loop."
   ]
  },
  {
   "cell_type": "code",
   "execution_count": 5,
   "id": "e164b786-2924-4fc1-b3ac-9aa50752e9a1",
   "metadata": {},
   "outputs": [
    {
     "name": "stdout",
     "output_type": "stream",
     "text": [
      "Sentence: This is a sample sentence with several words.\n",
      "Number of Words: 8\n"
     ]
    }
   ],
   "source": [
    "def count_words(sentence):\n",
    "    word_count = 0\n",
    "    is_word = False  # Flag to track if we are inside a word\n",
    "\n",
    "    for char in sentence:\n",
    "        if char.isalnum():  # Check if the character is alphanumeric (part of a word)\n",
    "            if not is_word:\n",
    "                is_word = True\n",
    "                word_count += 1\n",
    "        else:\n",
    "            is_word = False\n",
    "\n",
    "    return word_count\n",
    "\n",
    "# Example usage:\n",
    "sentence = \"This is a sample sentence with several words.\"\n",
    "count = count_words(sentence)\n",
    "print(\"Sentence:\", sentence)\n",
    "print(\"Number of Words:\", count)\n"
   ]
  },
  {
   "cell_type": "markdown",
   "id": "543b50ff-c303-4b08-a90e-39e59343abaf",
   "metadata": {},
   "source": [
    "20. Write a Python program to find the sum of all odd numbers from 1 to 50 using a for loop."
   ]
  },
  {
   "cell_type": "code",
   "execution_count": 6,
   "id": "d1ffadeb-d312-45be-85e6-1e7949de84ae",
   "metadata": {},
   "outputs": [
    {
     "name": "stdout",
     "output_type": "stream",
     "text": [
      "Sum of odd numbers from 1 to 50: 625\n"
     ]
    }
   ],
   "source": [
    "# Initialize a variable to store the sum\n",
    "sum_of_odds = 0\n",
    "\n",
    "# Iterate through numbers from 1 to 50\n",
    "for number in range(1, 51):\n",
    "    # Check if the number is odd\n",
    "    if number % 2 != 0:\n",
    "        # Add the odd number to the sum\n",
    "        sum_of_odds += number\n",
    "\n",
    "# Print the sum of odd numbers\n",
    "print(\"Sum of odd numbers from 1 to 50:\", sum_of_odds)\n"
   ]
  },
  {
   "cell_type": "markdown",
   "id": "c5f9ea4e-f522-4f94-8515-b2412b0df0b4",
   "metadata": {},
   "source": [
    "21. Write a Python program that checks if a given year is a leap year using a for loop."
   ]
  },
  {
   "cell_type": "code",
   "execution_count": 7,
   "id": "98af4147-8218-420f-86c5-f203b85437c5",
   "metadata": {},
   "outputs": [
    {
     "name": "stdout",
     "output_type": "stream",
     "text": [
      "2020 is a leap year\n",
      "2021 is not a leap year\n",
      "2022 is not a leap year\n",
      "2023 is not a leap year\n",
      "2024 is a leap year\n"
     ]
    }
   ],
   "source": [
    "# Define a list of years to check\n",
    "years_to_check = [2020, 2021, 2022, 2023, 2024]\n",
    "\n",
    "# Iterate through the years in the list\n",
    "for year in years_to_check:\n",
    "    if (year % 4 == 0 and year % 100 != 0) or (year % 400 == 0):\n",
    "        print(f\"{year} is a leap year\")\n",
    "    else:\n",
    "        print(f\"{year} is not a leap year\")\n"
   ]
  },
  {
   "cell_type": "markdown",
   "id": "f32bfec3-0636-4689-8700-027e880a9d7d",
   "metadata": {},
   "source": [
    "22. Create a Python program that calculates the square root of a number using a for loop."
   ]
  },
  {
   "cell_type": "code",
   "execution_count": 9,
   "id": "4180db80-0279-471e-a011-661bdeebc645",
   "metadata": {},
   "outputs": [
    {
     "name": "stdin",
     "output_type": "stream",
     "text": [
      "Enter a number:  121\n"
     ]
    },
    {
     "name": "stdout",
     "output_type": "stream",
     "text": [
      "The square root of 121.0 is approximately 11.0\n"
     ]
    }
   ],
   "source": [
    "def calculate_square_root(number, num_iterations=10):\n",
    "    if number < 0:\n",
    "        return \"Cannot calculate the square root of a negative number\"\n",
    "    \n",
    "    guess = number / 2.0  # Initial guess\n",
    "    for _ in range(num_iterations):\n",
    "        guess = 0.5 * (guess + number / guess)\n",
    "    \n",
    "    return guess\n",
    "\n",
    "# Input a number for which you want to calculate the square root\n",
    "number_to_sqrt = float(input(\"Enter a number: \"))\n",
    "\n",
    "# Calculate and print the square root\n",
    "result = calculate_square_root(number_to_sqrt)\n",
    "print(f\"The square root of {number_to_sqrt} is approximately {result}\")\n"
   ]
  },
  {
   "cell_type": "markdown",
   "id": "2ddf6209-a7c9-4537-b7cd-6f34ca557a6a",
   "metadata": {},
   "source": [
    "23. Write a Python program to find the LCM (Least Common Multiple) of two numbers using a for loop."
   ]
  },
  {
   "cell_type": "code",
   "execution_count": 11,
   "id": "55616f7d-8a50-46a0-8f86-0a5e27071627",
   "metadata": {},
   "outputs": [
    {
     "name": "stdin",
     "output_type": "stream",
     "text": [
      "Enter the first number:  55\n",
      "Enter the second number:  5\n"
     ]
    },
    {
     "name": "stdout",
     "output_type": "stream",
     "text": [
      "The LCM of 55 and 5 is 55\n"
     ]
    }
   ],
   "source": [
    "# Function to calculate the Least Common Multiple (LCM)\n",
    "def lcm(a, b):\n",
    "    return (a * b) // gcd(a, b)\n",
    "\n",
    "# Input two numbers for which you want to find the LCM\n",
    "num1 = int(input(\"Enter the first number: \"))\n",
    "num2 = int(input(\"Enter the second number: \"))\n",
    "\n",
    "# Calculate and print the LCM\n",
    "result = lcm(num1, num2)\n",
    "print(f\"The LCM of {num1} and {num2} is {result}\")\n"
   ]
  },
  {
   "cell_type": "markdown",
   "id": "bd09720f-9102-4f7f-a9d8-88afe1e16143",
   "metadata": {},
   "source": [
    "# If else:"
   ]
  },
  {
   "cell_type": "markdown",
   "id": "489b8b32-d1c3-4e7d-9f7c-bd8a6371dcf5",
   "metadata": {},
   "source": [
    "1. Write a Python program to check if a number is positive, negative, or zero using an if-else statement."
   ]
  },
  {
   "cell_type": "code",
   "execution_count": 1,
   "id": "05298163-0d90-4e85-8223-f5ba2a940f7e",
   "metadata": {},
   "outputs": [
    {
     "name": "stdin",
     "output_type": "stream",
     "text": [
      "Enter a number:  15\n"
     ]
    },
    {
     "name": "stdout",
     "output_type": "stream",
     "text": [
      "The number is positive.\n"
     ]
    }
   ],
   "source": [
    "# Input a number from the user\n",
    "num = float(input(\"Enter a number: \"))\n",
    "\n",
    "# Check if the number is positive, negative, or zero\n",
    "if num > 0:\n",
    "    print(\"The number is positive.\")\n",
    "elif num < 0:\n",
    "    print(\"The number is negative.\")\n",
    "else:\n",
    "    print(\"The number is zero.\")\n"
   ]
  },
  {
   "cell_type": "markdown",
   "id": "cfa3cb7b-6c22-4f43-85ce-8b04b7818f6a",
   "metadata": {},
   "source": [
    "2. Create a Python program that checks if a given number is even or odd using an if-else statement."
   ]
  },
  {
   "cell_type": "code",
   "execution_count": 2,
   "id": "52a6f90c-8841-4188-963a-0f3fd016e6a5",
   "metadata": {},
   "outputs": [
    {
     "name": "stdin",
     "output_type": "stream",
     "text": [
      "Enter a number:  20\n"
     ]
    },
    {
     "name": "stdout",
     "output_type": "stream",
     "text": [
      "The number is even.\n"
     ]
    }
   ],
   "source": [
    "# Input a number from the user\n",
    "num = int(input(\"Enter a number: \"))\n",
    "\n",
    "# Check if the number is even or odd\n",
    "if num % 2 == 0:\n",
    "    print(\"The number is even.\")\n",
    "else:\n",
    "    print(\"The number is odd.\")\n"
   ]
  },
  {
   "cell_type": "markdown",
   "id": "98c80693-ef81-46bf-94e2-b9cfcdeb34dd",
   "metadata": {},
   "source": [
    "3. How can you use nested if-else statements in Python, and provide an example?"
   ]
  },
  {
   "cell_type": "markdown",
   "id": "9faa0175-4242-4122-8d04-9994d34b2063",
   "metadata": {},
   "source": [
    "- Nested if-else statements in Python are used when you need to have multiple levels of conditional checks within each other. They allow you to test for more complex conditions by embedding one if-else statement inside another. Here's the basic structure of nested if-else statements:"
   ]
  },
  {
   "cell_type": "markdown",
   "id": "49618cbc-58b3-4029-b68c-117042ff530f",
   "metadata": {},
   "source": [
    "```python\n",
    "if condition1:\n",
    "    # Code to execute if condition1 is True\n",
    "    if condition2:\n",
    "        # Code to execute if both condition1 and condition2 are True\n",
    "    else:\n",
    "        # Code to execute if condition1 is True, but condition2 is False\n",
    "else:\n",
    "    # Code to execute if condition1 is False\n",
    "```"
   ]
  },
  {
   "cell_type": "markdown",
   "id": "169d8e9d-77df-46ec-b7dd-f72c93be23b4",
   "metadata": {},
   "source": [
    "Here's an example that uses nested if-else statements to determine the grade based on a student's score:"
   ]
  },
  {
   "cell_type": "code",
   "execution_count": 3,
   "id": "258ee6f4-3f5f-4266-9205-4063ae65b677",
   "metadata": {},
   "outputs": [
    {
     "name": "stdin",
     "output_type": "stream",
     "text": [
      "Enter the student's score:  15\n"
     ]
    },
    {
     "name": "stdout",
     "output_type": "stream",
     "text": [
      "The student's grade is: F\n"
     ]
    }
   ],
   "source": [
    "# Input the student's score\n",
    "score = int(input(\"Enter the student's score: \"))\n",
    "\n",
    "# Determine the grade\n",
    "if score >= 90:\n",
    "    grade = \"A\"\n",
    "else:\n",
    "    if score >= 80:\n",
    "        grade = \"B\"\n",
    "    else:\n",
    "        if score >= 70:\n",
    "            grade = \"C\"\n",
    "        else:\n",
    "            if score >= 60:\n",
    "                grade = \"D\"\n",
    "            else:\n",
    "                grade = \"F\"\n",
    "\n",
    "# Print the grade\n",
    "print(\"The student's grade is:\", grade)\n"
   ]
  },
  {
   "cell_type": "markdown",
   "id": "2f4ad2a5-d568-4982-93b8-fb7cc011b0f6",
   "metadata": {},
   "source": [
    "In this example:\n",
    "\n",
    "- We input the student's score using `input()` and convert it to an integer.\n",
    "\n",
    "- We use nested if-else statements to determine the grade:\n",
    "  - If the score is greater than or equal to 90, it's an \"A.\"\n",
    "  - If not, we check the next condition, and so on, until we determine the grade.\n",
    "\n",
    "- Finally, we print the calculated grade."
   ]
  },
  {
   "cell_type": "markdown",
   "id": "167760d4-5992-4435-923a-fb3e379ad460",
   "metadata": {},
   "source": [
    "4. Write a Python program to determine the largest of three numbers using if-else."
   ]
  },
  {
   "cell_type": "code",
   "execution_count": 4,
   "id": "c080263a-4bc8-40e9-911a-ebfb799483b3",
   "metadata": {},
   "outputs": [
    {
     "name": "stdin",
     "output_type": "stream",
     "text": [
      "Enter the first number:  15\n",
      "Enter the second number:  16\n",
      "Enter the third number:  17\n"
     ]
    },
    {
     "name": "stdout",
     "output_type": "stream",
     "text": [
      "The largest number is: 17.0\n"
     ]
    }
   ],
   "source": [
    "# Input three numbers from the user\n",
    "num1 = float(input(\"Enter the first number: \"))\n",
    "num2 = float(input(\"Enter the second number: \"))\n",
    "num3 = float(input(\"Enter the third number: \"))\n",
    "\n",
    "# Compare the numbers to find the largest\n",
    "if num1 >= num2 and num1 >= num3:\n",
    "    largest = num1\n",
    "elif num2 >= num1 and num2 >= num3:\n",
    "    largest = num2\n",
    "else:\n",
    "    largest = num3\n",
    "\n",
    "# Print the largest number\n",
    "print(\"The largest number is:\", largest)\n"
   ]
  },
  {
   "cell_type": "markdown",
   "id": "2a37695a-b153-4d97-9f0a-04892b74cbe1",
   "metadata": {},
   "source": [
    "5. Write a Python program that calculates the absolute value of a number using if-else."
   ]
  },
  {
   "cell_type": "code",
   "execution_count": 5,
   "id": "b0ccdc97-cf02-4336-983d-b02a18e7a9c7",
   "metadata": {},
   "outputs": [
    {
     "name": "stdin",
     "output_type": "stream",
     "text": [
      "Enter a number:  -40\n"
     ]
    },
    {
     "name": "stdout",
     "output_type": "stream",
     "text": [
      "The absolute value of -40.0 is 40.0\n"
     ]
    }
   ],
   "source": [
    "# Input a number from the user\n",
    "num = float(input(\"Enter a number: \"))\n",
    "\n",
    "# Check if the number is negative\n",
    "if num < 0:\n",
    "    absolute_value = -num\n",
    "else:\n",
    "    absolute_value = num\n",
    "\n",
    "# Print the absolute value\n",
    "print(\"The absolute value of\", num, \"is\", absolute_value)\n"
   ]
  },
  {
   "cell_type": "markdown",
   "id": "2daebff9-7ab3-4876-a731-4e89937edc43",
   "metadata": {},
   "source": [
    "In this program:\n",
    "\n",
    "- We input a number from the user and convert it to a floating-point number.\n",
    "\n",
    "- We use an if-else statement to check if the number is negative (num < 0). If it's negative, we negate it by adding a minus sign in front of it to obtain the absolute value (absolute_value = -num). If the number is non-negative, we assign it directly to absolute_value.\n",
    "\n",
    "- Finally, we print the absolute value of the input number."
   ]
  },
  {
   "cell_type": "markdown",
   "id": "a9926ef9-ac7e-46e5-8a70-b0e3d22215a1",
   "metadata": {},
   "source": [
    "6. Create a Python program that checks if a given character is a vowel or consonant using if-else."
   ]
  },
  {
   "cell_type": "code",
   "execution_count": 6,
   "id": "5a351f06-40ed-43ee-a010-41ae7b34c444",
   "metadata": {},
   "outputs": [
    {
     "name": "stdin",
     "output_type": "stream",
     "text": [
      "Enter a character:  E\n"
     ]
    },
    {
     "name": "stdout",
     "output_type": "stream",
     "text": [
      "e is a vowel.\n"
     ]
    }
   ],
   "source": [
    "# Input a character from the user (assuming a single character)\n",
    "char = input(\"Enter a character: \")\n",
    "\n",
    "# Check if the input is a single character\n",
    "if len(char) == 1:\n",
    "    # Convert the character to lowercase for case-insensitive comparison\n",
    "    char = char.lower()\n",
    "\n",
    "    # Check if the character is a vowel\n",
    "    if char in 'aeiou':\n",
    "        print(char, \"is a vowel.\")\n",
    "    else:\n",
    "        print(char, \"is a consonant.\")\n",
    "else:\n",
    "    print(\"Please enter a single character.\")\n"
   ]
  },
  {
   "cell_type": "markdown",
   "id": "c0980fc0-2a24-4859-9414-be9444d1b5fc",
   "metadata": {},
   "source": [
    "In this program:\n",
    "\n",
    "- We input a character from the user and store it in the variable char. We assume that the user enters a single character.\n",
    "\n",
    "- We check if the length of the input is equal to 1, ensuring that it's a single character.\n",
    "\n",
    "- We convert the character to lowercase using char = char.lower() to make the comparison case-insensitive.\n",
    "\n",
    "- We use an if-else statement to check if the character is a vowel by testing if it's in the string 'aeiou', which contains all lowercase vowels. If the character is in the string, we print that it's a vowel; otherwise, we print that it's a consonant.\n",
    "\n",
    "- If the user doesn't enter a single character, we print a message asking them to do so."
   ]
  },
  {
   "cell_type": "markdown",
   "id": "30dcd643-d6f1-4f7c-8aa6-54e790b72052",
   "metadata": {},
   "source": [
    "7. Write a Python program to determine if a user is eligible to vote based on their age using if-else."
   ]
  },
  {
   "cell_type": "code",
   "execution_count": 7,
   "id": "201dc215-f513-4f06-a9bb-13c4d74e76d4",
   "metadata": {},
   "outputs": [
    {
     "name": "stdin",
     "output_type": "stream",
     "text": [
      "Enter your age:  19\n"
     ]
    },
    {
     "name": "stdout",
     "output_type": "stream",
     "text": [
      "You are eligible to vote.\n"
     ]
    }
   ],
   "source": [
    "# Input the user's age\n",
    "age = int(input(\"Enter your age: \"))\n",
    "\n",
    "# Check if the age is greater than or equal to the voting age (18)\n",
    "if age >= 18:\n",
    "    print(\"You are eligible to vote.\")\n",
    "else:\n",
    "    print(\"You are not eligible to vote.\")\n"
   ]
  },
  {
   "cell_type": "markdown",
   "id": "99254e84-ff39-4b1f-968e-a760416d245e",
   "metadata": {},
   "source": [
    "In this program:\n",
    "\n",
    "- We input the user's age and convert it to an integer using int(input(\"Enter your age: \")).\n",
    "\n",
    "- We use an if-else statement to check if the age is greater than or equal to the voting age (which is typically 18 in many countries). If the age meets this condition, we print \"You are eligible to vote.\" Otherwise, we print \"You are not eligible to vote.\"\n",
    "\n",
    "- This program will inform the user whether they are eligible to vote based on their age."
   ]
  },
  {
   "cell_type": "markdown",
   "id": "e3c13665-70fc-43d2-b285-6e756966c6d9",
   "metadata": {},
   "source": [
    "8. Create a Python program that calculates the discount amount based on the purchase amount using if-else."
   ]
  },
  {
   "cell_type": "code",
   "execution_count": 9,
   "id": "4f31e223-acb3-4d4b-924d-2ac52253440c",
   "metadata": {},
   "outputs": [
    {
     "name": "stdin",
     "output_type": "stream",
     "text": [
      "Enter the purchase amount:  1250\n"
     ]
    },
    {
     "name": "stdout",
     "output_type": "stream",
     "text": [
      "Discount Percentage: 10%\n",
      "Discount Amount: $125.00\n"
     ]
    }
   ],
   "source": [
    "# Input the purchase amount\n",
    "purchase_amount = float(input(\"Enter the purchase amount: \"))\n",
    "\n",
    "# Initialize discount variables\n",
    "discount_percentage = 0\n",
    "discount_amount = 0\n",
    "\n",
    "# Determine the discount based on the purchase amount\n",
    "if purchase_amount >= 1000:\n",
    "    discount_percentage = 10\n",
    "elif purchase_amount >= 500:\n",
    "    discount_percentage = 5\n",
    "\n",
    "# Calculate the discount amount\n",
    "discount_amount = (discount_percentage / 100) * purchase_amount\n",
    "\n",
    "# Display the discount amount\n",
    "print(f\"Discount Percentage: {discount_percentage}%\")\n",
    "print(f\"Discount Amount: ${discount_amount:.2f}\")\n"
   ]
  },
  {
   "cell_type": "markdown",
   "id": "5de0980f-6857-4023-86f7-3e5d41bc63b9",
   "metadata": {},
   "source": [
    "In this program:\n",
    "\n",
    "- We input the purchase amount as a floating-point number.\n",
    "\n",
    "- We initialize variables discount_percentage and discount_amount to store the discount percentage and calculated discount amount, respectively.\n",
    "\n",
    "- We use if-else statements to determine the discount based on the purchase amount. In this example, if the purchase amount is greater than or equal to $1000, a 10% discount is applied. If the purchase amount is between $500 and $999.99, a 5% discount is applied. No discount is applied for purchase amounts below $500.\n",
    "\n",
    "- We calculate the discount amount by multiplying the discount percentage (converted to a decimal) by the purchase amount.\n",
    "\n",
    "- Finally, we display the discount percentage and the calculated discount amount."
   ]
  },
  {
   "cell_type": "markdown",
   "id": "cdec5164-0219-4ecc-afad-2ea2a07f147b",
   "metadata": {},
   "source": [
    "9. Write a Python program to check if a number is within a specified range using if-else."
   ]
  },
  {
   "cell_type": "code",
   "execution_count": 10,
   "id": "418d9211-ff56-4a80-84db-ff21f882c069",
   "metadata": {},
   "outputs": [
    {
     "name": "stdin",
     "output_type": "stream",
     "text": [
      "Enter a number:  35\n"
     ]
    },
    {
     "name": "stdout",
     "output_type": "stream",
     "text": [
      "35 is within the range [10, 50]\n"
     ]
    }
   ],
   "source": [
    "# Define the range\n",
    "lower_limit = 10\n",
    "upper_limit = 50\n",
    "\n",
    "# Input the number to check\n",
    "number = int(input(\"Enter a number: \"))\n",
    "\n",
    "# Check if the number is within the specified range\n",
    "if number >= lower_limit and number <= upper_limit:\n",
    "    print(f\"{number} is within the range [{lower_limit}, {upper_limit}]\")\n",
    "else:\n",
    "    print(f\"{number} is outside the range [{lower_limit}, {upper_limit}]\")\n"
   ]
  },
  {
   "cell_type": "markdown",
   "id": "d9f70925-ea93-4c84-b2eb-9e0d28ee5e3d",
   "metadata": {},
   "source": [
    "10. Create a Python program that determines the grade of a student based on their score using if-else."
   ]
  },
  {
   "cell_type": "code",
   "execution_count": 11,
   "id": "47b826eb-3041-4b98-b82d-345d7c07358c",
   "metadata": {},
   "outputs": [
    {
     "name": "stdin",
     "output_type": "stream",
     "text": [
      "Enter the student's score:  65\n"
     ]
    },
    {
     "name": "stdout",
     "output_type": "stream",
     "text": [
      "The student's grade is: D\n"
     ]
    }
   ],
   "source": [
    "# Input the student's score\n",
    "score = float(input(\"Enter the student's score: \"))\n",
    "\n",
    "# Determine the grade based on the score\n",
    "if score >= 90:\n",
    "    grade = 'A'\n",
    "elif score >= 80:\n",
    "    grade = 'B'\n",
    "elif score >= 70:\n",
    "    grade = 'C'\n",
    "elif score >= 60:\n",
    "    grade = 'D'\n",
    "else:\n",
    "    grade = 'F'\n",
    "\n",
    "# Print the grade\n",
    "print(f\"The student's grade is: {grade}\")\n"
   ]
  },
  {
   "cell_type": "markdown",
   "id": "4555b476-12b9-453c-9b2a-d1a3dec8ac06",
   "metadata": {},
   "source": [
    "11. Write a Python program to check if a string is empty or not using if-else."
   ]
  },
  {
   "cell_type": "code",
   "execution_count": 12,
   "id": "aba8977e-18ca-4283-a900-99f1376cfd27",
   "metadata": {},
   "outputs": [
    {
     "name": "stdin",
     "output_type": "stream",
     "text": [
      "Enter a string:  hello!\n"
     ]
    },
    {
     "name": "stdout",
     "output_type": "stream",
     "text": [
      "The string is not empty.\n"
     ]
    }
   ],
   "source": [
    "# Input a string from the user\n",
    "user_input = input(\"Enter a string: \")\n",
    "\n",
    "# Check if the string is empty or not\n",
    "if user_input:\n",
    "    print(\"The string is not empty.\")\n",
    "else:\n",
    "    print(\"The string is empty.\")\n"
   ]
  },
  {
   "cell_type": "markdown",
   "id": "4fbbba66-5208-43a8-bba9-01000c445207",
   "metadata": {},
   "source": [
    "12. Create a Python program that identifies the type of a triangle (e.g., equilateral, isosceles, or scalene) based on input values using if-else."
   ]
  },
  {
   "cell_type": "code",
   "execution_count": 13,
   "id": "e529194a-56f5-416c-ba9a-05ab20d933af",
   "metadata": {},
   "outputs": [
    {
     "name": "stdin",
     "output_type": "stream",
     "text": [
      "Enter the length of the first side:  45\n",
      "Enter the length of the second side:  45\n",
      "Enter the length of the third side:  45\n"
     ]
    },
    {
     "name": "stdout",
     "output_type": "stream",
     "text": [
      "It is an equilateral triangle.\n"
     ]
    }
   ],
   "source": [
    "# Input lengths of the triangle's sides from the user\n",
    "side1 = float(input(\"Enter the length of the first side: \"))\n",
    "side2 = float(input(\"Enter the length of the second side: \"))\n",
    "side3 = float(input(\"Enter the length of the third side: \"))\n",
    "\n",
    "# Check the type of triangle\n",
    "if side1 == side2 == side3:\n",
    "    print(\"It is an equilateral triangle.\")\n",
    "elif side1 == side2 or side2 == side3 or side1 == side3:\n",
    "    print(\"It is an isosceles triangle.\")\n",
    "else:\n",
    "    print(\"It is a scalene triangle.\")\n"
   ]
  },
  {
   "cell_type": "markdown",
   "id": "6ea58bda-6a6b-49fc-8eac-239d990f7dde",
   "metadata": {},
   "source": [
    "In this program:\n",
    "\n",
    "- We use the input() function to get the lengths of the triangle's sides from the user as floating-point numbers.\n",
    "\n",
    "- We use if-else statements to check the type of triangle based on the lengths of its sides:\n",
    "\n",
    "    - If all three sides are equal, it's an equilateral triangle.\n",
    "    - If at least two sides are equal, it's an isosceles triangle.\n",
    "    - If no sides are equal, it's a scalene triangle.\n",
    "- Depending on the result of the if-else conditions, the program prints the type of triangle."
   ]
  },
  {
   "cell_type": "markdown",
   "id": "852372c8-c4fd-489c-8836-6cfc408d2a51",
   "metadata": {},
   "source": [
    "13. Write a Python program to determine the day of the week based on a user-provided number using if-else."
   ]
  },
  {
   "cell_type": "code",
   "execution_count": 16,
   "id": "14c27b07-c19e-436a-8436-eefc14b7e9e9",
   "metadata": {},
   "outputs": [
    {
     "name": "stdin",
     "output_type": "stream",
     "text": [
      "Enter a number (1-7) to represent the day of the week:  5\n"
     ]
    },
    {
     "name": "stdout",
     "output_type": "stream",
     "text": [
      "The day of the week is: Friday\n"
     ]
    }
   ],
   "source": [
    "# Get the user input for the day number (1-7)\n",
    "day_number = int(input(\"Enter a number (1-7) to represent the day of the week: \"))\n",
    "\n",
    "# Check the day of the week based on the input\n",
    "if day_number == 1:\n",
    "    day_name = \"Monday\"\n",
    "elif day_number == 2:\n",
    "    day_name = \"Tuesday\"\n",
    "elif day_number == 3:\n",
    "    day_name = \"Wednesday\"\n",
    "elif day_number == 4:\n",
    "    day_name = \"Thursday\"\n",
    "elif day_number == 5:\n",
    "    day_name = \"Friday\"\n",
    "elif day_number == 6:\n",
    "    day_name = \"Saturday\"\n",
    "elif day_number == 7:\n",
    "    day_name = \"Sunday\"\n",
    "else:\n",
    "    day_name = \"Invalid input. Please enter a number between 1 and 7.\"\n",
    "\n",
    "# Print the day of the week or an error message\n",
    "print(\"The day of the week is:\", day_name)\n"
   ]
  },
  {
   "cell_type": "markdown",
   "id": "62537d45-47b9-48f5-bc9a-03065849f36e",
   "metadata": {},
   "source": [
    "14. Create a Python program that checks if a given year is a leap year using both if-else and a function."
   ]
  },
  {
   "cell_type": "code",
   "execution_count": 19,
   "id": "3dee70fa-1fc4-463b-a3a1-0e030246149e",
   "metadata": {},
   "outputs": [
    {
     "name": "stdin",
     "output_type": "stream",
     "text": [
      "Enter a year:  2022\n"
     ]
    },
    {
     "name": "stdout",
     "output_type": "stream",
     "text": [
      "2022 is not a leap year.\n"
     ]
    }
   ],
   "source": [
    "# Define a function to check if a year is a leap year\n",
    "def is_leap_year(year):\n",
    "    if (year % 4 == 0 and year % 100 != 0) or (year % 400 == 0):\n",
    "        return True\n",
    "    else:\n",
    "        return False\n",
    "\n",
    "# Get user input for the year\n",
    "year = int(input(\"Enter a year: \"))\n",
    "\n",
    "# Check if the year is a leap year using the function\n",
    "if is_leap_year(year):\n",
    "    print(year, \"is a leap year.\")\n",
    "else:\n",
    "    print(year, \"is not a leap year.\")\n"
   ]
  },
  {
   "cell_type": "markdown",
   "id": "b5d402a9-2452-4466-b5a5-d926848891ea",
   "metadata": {},
   "source": [
    "15. How do you use the \"assert\" statement in Python to add debugging checks within if-else blocks?"
   ]
  },
  {
   "cell_type": "code",
   "execution_count": 20,
   "id": "a1fa6eba-7a5a-41bb-9ecb-fcef60c17a56",
   "metadata": {},
   "outputs": [
    {
     "name": "stdout",
     "output_type": "stream",
     "text": [
      "x is positive\n",
      "Result: 5.0\n"
     ]
    }
   ],
   "source": [
    "# Example 1: Using assert within an if-else block\n",
    "x = 5\n",
    "\n",
    "if x > 0:\n",
    "    # This condition should be True, so we use assert to check it\n",
    "    assert x < 10, \"x should be less than 10\"\n",
    "    print(\"x is positive\")\n",
    "else:\n",
    "    print(\"x is not positive\")\n",
    "\n",
    "# Example 2: Using assert to check a condition in a function\n",
    "def divide(a, b):\n",
    "    assert b != 0, \"Cannot divide by zero\"\n",
    "    return a / b\n",
    "\n",
    "result = divide(10, 2)\n",
    "print(\"Result:\", result)\n",
    "\n",
    "# Uncomment the line below to see an AssertionError\n",
    "# result = divide(10, 0)\n"
   ]
  },
  {
   "cell_type": "markdown",
   "id": "55b9fc92-51d1-42e6-b02c-d3cd6567c398",
   "metadata": {},
   "source": [
    "16. Create a Python program that determines the eligibility of a person for a senior citizen discount based on age using if-else."
   ]
  },
  {
   "cell_type": "code",
   "execution_count": 21,
   "id": "5e44ac2b-01ca-487d-811b-4fb590cf7174",
   "metadata": {},
   "outputs": [
    {
     "name": "stdin",
     "output_type": "stream",
     "text": [
      "Enter your age:  25\n"
     ]
    },
    {
     "name": "stdout",
     "output_type": "stream",
     "text": [
      "Sorry, you are not eligible for a senior citizen discount.\n"
     ]
    }
   ],
   "source": [
    "# Get the person's age as input\n",
    "age = int(input(\"Enter your age: \"))\n",
    "\n",
    "# Define the age threshold for senior citizen discount\n",
    "senior_citizen_age = 60\n",
    "\n",
    "# Check if the person is eligible for a senior citizen discount\n",
    "if age >= senior_citizen_age:\n",
    "    print(\"Congratulations! You are eligible for a senior citizen discount.\")\n",
    "else:\n",
    "    print(\"Sorry, you are not eligible for a senior citizen discount.\")\n"
   ]
  },
  {
   "cell_type": "markdown",
   "id": "27c3d348-cdc3-4f68-a317-0bed007fd5c2",
   "metadata": {},
   "source": [
    "17. Write a Python program to categorize a given character as uppercase, lowercase, or neither using if-else."
   ]
  },
  {
   "cell_type": "code",
   "execution_count": 22,
   "id": "a289105b-e589-4e11-9ff7-331d7e21fe53",
   "metadata": {},
   "outputs": [
    {
     "name": "stdin",
     "output_type": "stream",
     "text": [
      "Enter a character:  THIS IS UPPERCASE LETTER\n"
     ]
    },
    {
     "name": "stdout",
     "output_type": "stream",
     "text": [
      "The character is uppercase.\n"
     ]
    }
   ],
   "source": [
    "# Get the character as input\n",
    "char = input(\"Enter a character: \")\n",
    "\n",
    "# Check if the character is uppercase\n",
    "if char.isupper():\n",
    "    print(\"The character is uppercase.\")\n",
    "# Check if the character is lowercase\n",
    "elif char.islower():\n",
    "    print(\"The character is lowercase.\")\n",
    "# If neither uppercase nor lowercase, it's something else\n",
    "else:\n",
    "    print(\"The character is neither uppercase nor lowercase.\")\n"
   ]
  },
  {
   "cell_type": "markdown",
   "id": "b26db0e8-200e-444f-8c73-8e0cc0f27ae4",
   "metadata": {},
   "source": [
    "18. Write a Python program to determine the roots of a quadratic equation using if-else."
   ]
  },
  {
   "cell_type": "code",
   "execution_count": 23,
   "id": "c5c10139-7f59-4eac-803c-434ab07f804e",
   "metadata": {},
   "outputs": [
    {
     "name": "stdin",
     "output_type": "stream",
     "text": [
      "Enter the coefficient 'a':  1\n",
      "Enter the coefficient 'b':  -3\n",
      "Enter the coefficient 'c':  2\n"
     ]
    },
    {
     "name": "stdout",
     "output_type": "stream",
     "text": [
      "Root 1: 2.0\n",
      "Root 2: 1.0\n"
     ]
    }
   ],
   "source": [
    "# Get the coefficients of the quadratic equation from the user\n",
    "a = float(input(\"Enter the coefficient 'a': \"))\n",
    "b = float(input(\"Enter the coefficient 'b': \"))\n",
    "c = float(input(\"Enter the coefficient 'c': \"))\n",
    "\n",
    "# Calculate the discriminant\n",
    "discriminant = b**2 - 4*a*c\n",
    "\n",
    "# Check the value of the discriminant to determine the type of roots\n",
    "if discriminant > 0:\n",
    "    # Two distinct real roots\n",
    "    root1 = (-b + (discriminant ** 0.5)) / (2 * a)\n",
    "    root2 = (-b - (discriminant ** 0.5)) / (2 * a)\n",
    "    print(f\"Root 1: {root1}\")\n",
    "    print(f\"Root 2: {root2}\")\n",
    "elif discriminant == 0:\n",
    "    # One real root (repeated)\n",
    "    root = -b / (2 * a)\n",
    "    print(f\"Root: {root}\")\n",
    "else:\n",
    "    # Complex roots\n",
    "    real_part = -b / (2 * a)\n",
    "    imaginary_part = (abs(discriminant) ** 0.5) / (2 * a)\n",
    "    print(f\"Root 1: {real_part} + {imaginary_part}i\")\n",
    "    print(f\"Root 2: {real_part} - {imaginary_part}i\")\n"
   ]
  },
  {
   "cell_type": "markdown",
   "id": "789305a5-e5c9-41bf-83f8-1326dd8d4fad",
   "metadata": {},
   "source": [
    "19. Create a Python program that checks if a given year is a century year or not using if-else."
   ]
  },
  {
   "cell_type": "code",
   "execution_count": 26,
   "id": "ebbdd9b4-ba1d-4eda-b15d-503c05d08ed8",
   "metadata": {},
   "outputs": [
    {
     "name": "stdin",
     "output_type": "stream",
     "text": [
      "Enter a year:  1500\n"
     ]
    },
    {
     "name": "stdout",
     "output_type": "stream",
     "text": [
      "1500 is a century year.\n"
     ]
    }
   ],
   "source": [
    "# Input year from the user\n",
    "year = int(input(\"Enter a year: \"))\n",
    "\n",
    "# Check if it's a century year or not\n",
    "if year % 100 == 0:\n",
    "    print(f\"{year} is a century year.\")\n",
    "else:\n",
    "    print(f\"{year} is not a century year.\")\n"
   ]
  },
  {
   "cell_type": "markdown",
   "id": "bef7733c-8bc6-4211-a3d4-d22202013ec3",
   "metadata": {},
   "source": [
    "20. Write a Python program to determine if a given number is a perfect square using if-else."
   ]
  },
  {
   "cell_type": "code",
   "execution_count": 27,
   "id": "4d041eac-7744-4dab-97c3-b26923497333",
   "metadata": {},
   "outputs": [
    {
     "name": "stdin",
     "output_type": "stream",
     "text": [
      "Enter a number:  121\n"
     ]
    },
    {
     "name": "stdout",
     "output_type": "stream",
     "text": [
      "121 is a perfect square.\n"
     ]
    }
   ],
   "source": [
    "# Input a number from the user\n",
    "number = int(input(\"Enter a number: \"))\n",
    "\n",
    "# Calculate the square root of the number\n",
    "sqrt = int(number ** 0.5)\n",
    "\n",
    "# Check if it's a perfect square or not\n",
    "if sqrt * sqrt == number:\n",
    "    print(f\"{number} is a perfect square.\")\n",
    "else:\n",
    "    print(f\"{number} is not a perfect square.\")\n"
   ]
  },
  {
   "cell_type": "markdown",
   "id": "e6b977da-9365-4da8-be9e-1b9f24362c08",
   "metadata": {},
   "source": [
    "21. Explain the purpose of the \"continue\" and \"break\" statements within if-else loops."
   ]
  },
  {
   "cell_type": "markdown",
   "id": "bf9e463e-2d76-49af-9e4b-19090724450b",
   "metadata": {},
   "source": [
    "- The \"continue\" and \"break\" statements are control flow statements in Python that are used within loops (including for loops, while loops, and nested loops) to alter the normal flow of execution. They serve different purposes:"
   ]
  },
  {
   "cell_type": "markdown",
   "id": "09d35cd2-f8c6-4001-a7e4-5ad6aee66026",
   "metadata": {
    "tags": []
   },
   "source": [
    "1. `continue` statement:\n",
    "   - Purpose: The `continue` statement is used to skip the current iteration of a loop and proceed to the next iteration.\n",
    "   - Usage: When encountered, the `continue` statement immediately stops the current iteration and jumps to the next iteration of the loop. Any code following the `continue` statement within the current iteration is skipped.\n",
    "   - Common use cases:\n",
    "     - Skipping specific items in a list or elements in an iterable based on a condition.\n",
    "     - Avoiding the execution of certain code within an iteration.\n",
    "  "
   ]
  },
  {
   "cell_type": "markdown",
   "id": "35c2c436-0ff8-444f-ab7a-d4317deb16f0",
   "metadata": {},
   "source": [
    " Example:"
   ]
  },
  {
   "cell_type": "code",
   "execution_count": 28,
   "id": "e6a3a65c-27c6-4937-9a91-0e8ce9a45d6d",
   "metadata": {},
   "outputs": [
    {
     "name": "stdout",
     "output_type": "stream",
     "text": [
      "1\n",
      "3\n",
      "5\n"
     ]
    }
   ],
   "source": [
    "numbers = [1, 2, 3, 4, 5]\n",
    "for num in numbers:\n",
    "    if num % 2 == 0:\n",
    "       continue  # Skip even numbers\n",
    "    print(num)"
   ]
  },
  {
   "cell_type": "markdown",
   "id": "9f1bd628-b11b-4cf1-87de-45db7966592d",
   "metadata": {},
   "source": [
    "2. `break` statement:\n",
    "   - Purpose: The `break` statement is used to exit a loop prematurely, even if the loop's condition is not met.\n",
    "   - Usage: When encountered, the `break` statement terminates the entire loop and continues with the code after the loop.\n",
    "   - Common use cases:\n",
    "     - Exiting a loop early when a certain condition is met.\n",
    "     - Implementing a search or traversal algorithm that should stop when a specific item is found."
   ]
  },
  {
   "cell_type": "markdown",
   "id": "f4b5251f-56d8-41ae-b74e-2f482f37368b",
   "metadata": {},
   "source": [
    "Example:"
   ]
  },
  {
   "cell_type": "code",
   "execution_count": 29,
   "id": "ce384926-a88d-4b6f-be2b-af23557fc99b",
   "metadata": {},
   "outputs": [
    {
     "name": "stdout",
     "output_type": "stream",
     "text": [
      "1\n",
      "2\n"
     ]
    }
   ],
   "source": [
    "numbers = [1, 2, 3, 4, 5]\n",
    "for num in numbers:\n",
    "   if num == 3:\n",
    "       break  # Exit the loop when 3 is found\n",
    "   print(num)"
   ]
  },
  {
   "cell_type": "markdown",
   "id": "07a8038a-debd-41a6-adb2-6cc70bc727d0",
   "metadata": {},
   "source": [
    "In summary, the `continue` statement allows you to skip the current iteration and continue with the next one, while the `break` statement allows you to exit a loop prematurely when a certain condition is met. These statements provide flexibility in controlling the flow of your loops based on specific conditions or requirements."
   ]
  },
  {
   "cell_type": "markdown",
   "id": "24aa128f-2846-482b-9d01-b8824ac2db7f",
   "metadata": {},
   "source": [
    "22. Create a Python program that calculates the BMI (Body Mass Index) of a person based on their weight and height using if-else."
   ]
  },
  {
   "cell_type": "code",
   "execution_count": 36,
   "id": "89a2931c-3ac6-4951-93e9-3b0133c68238",
   "metadata": {},
   "outputs": [
    {
     "name": "stdin",
     "output_type": "stream",
     "text": [
      "Enter your weight in kilograms:  70\n",
      "Enter your height in meters:  1.25\n"
     ]
    },
    {
     "name": "stdout",
     "output_type": "stream",
     "text": [
      "Your BMI is: 44.80\n",
      "Category: Obese\n"
     ]
    }
   ],
   "source": [
    "# Input weight in kilograms and height in meters\n",
    "weight_kg = float(input(\"Enter your weight in kilograms: \"))\n",
    "height_m = float(input(\"Enter your height in meters: \"))\n",
    "\n",
    "# Calculate BMI\n",
    "bmi = weight_kg / (height_m ** 2)\n",
    "\n",
    "# Determine the BMI category\n",
    "if bmi < 18.5:\n",
    "    category = \"Underweight\"\n",
    "elif 18.5 <= bmi < 24.9:\n",
    "    category = \"Normal Weight\"\n",
    "elif 24.9 <= bmi < 29.9:\n",
    "    category = \"Overweight\"\n",
    "else:\n",
    "    category = \"Obese\"\n",
    "\n",
    "# Display the result\n",
    "print(f\"Your BMI is: {bmi:.2f}\")\n",
    "print(f\"Category: {category}\")\n"
   ]
  },
  {
   "cell_type": "markdown",
   "id": "be29f0c4-b9ec-4561-a294-300633450a88",
   "metadata": {},
   "source": [
    "23. How can you use the \"filter()\" function with if-else statements to filter elements from a list?"
   ]
  },
  {
   "cell_type": "code",
   "execution_count": 37,
   "id": "bf86ad1b-18c4-4a8b-8f3e-0fdf069549bf",
   "metadata": {},
   "outputs": [
    {
     "name": "stdout",
     "output_type": "stream",
     "text": [
      "[2, 4, 6, 8, 10]\n"
     ]
    }
   ],
   "source": [
    "# Custom filtering function\n",
    "def is_even(num):\n",
    "    return num % 2 == 0\n",
    "\n",
    "# List of numbers\n",
    "numbers = [1, 2, 3, 4, 5, 6, 7, 8, 9, 10]\n",
    "\n",
    "# Use filter() to filter even numbers\n",
    "filtered_numbers = filter(is_even, numbers)\n",
    "\n",
    "# Convert the result to a list\n",
    "even_numbers = list(filtered_numbers)\n",
    "\n",
    "print(even_numbers)\n"
   ]
  },
  {
   "cell_type": "markdown",
   "id": "5453169a-911d-4843-9b54-7bb917dc1b2a",
   "metadata": {},
   "source": [
    "24. Write a Python program to determine if a given number is prime or not using if-else."
   ]
  },
  {
   "cell_type": "code",
   "execution_count": 39,
   "id": "6f597e00-dfdb-4ed2-8105-96b3c2470b9a",
   "metadata": {},
   "outputs": [
    {
     "name": "stdin",
     "output_type": "stream",
     "text": [
      "Enter a number:  15\n"
     ]
    },
    {
     "name": "stdout",
     "output_type": "stream",
     "text": [
      "15 is not a prime number\n"
     ]
    }
   ],
   "source": [
    "# Function to check if a number is prime\n",
    "def is_prime(number):\n",
    "    # Check if the number is less than 2 (not a prime)\n",
    "    if number < 2:\n",
    "        return False\n",
    "    \n",
    "    # Check for factors from 2 to the square root of the number\n",
    "    for i in range(2, int(number**0.5) + 1):\n",
    "        if number % i == 0:\n",
    "            return False\n",
    "    \n",
    "    return True\n",
    "\n",
    "# Input a number from the user\n",
    "num = int(input(\"Enter a number: \"))\n",
    "\n",
    "# Check if the number is prime\n",
    "if is_prime(num):\n",
    "    print(num, \"is a prime number\")\n",
    "else:\n",
    "    print(num, \"is not a prime number\")\n"
   ]
  },
  {
   "cell_type": "markdown",
   "id": "20bff530-f022-46c1-bd29-32235eca99a1",
   "metadata": {},
   "source": [
    "# Map :-"
   ]
  },
  {
   "cell_type": "markdown",
   "id": "b15ee0e6-f8be-465e-9fdb-59a06eaf1811",
   "metadata": {},
   "source": [
    "1. Explain the purpose of the `map()` function in Python and provide an example of how it can be used to apply a function to each element of an iterable."
   ]
  },
  {
   "cell_type": "code",
   "execution_count": 42,
   "id": "4abac6c8-8e34-4f7a-89c5-d66f95980c06",
   "metadata": {},
   "outputs": [
    {
     "name": "stdout",
     "output_type": "stream",
     "text": [
      "[2, 4, 6, 8, 10]\n"
     ]
    }
   ],
   "source": [
    "# Define a function to double a number\n",
    "def double(x):\n",
    "    return x * 2\n",
    "\n",
    "# Create a list of numbers\n",
    "numbers = [1, 2, 3, 4, 5]\n",
    "\n",
    "# Use map() to apply the double function to each element of the list\n",
    "doubled_numbers = map(double, numbers)\n",
    "\n",
    "# Convert the result to a list (since map returns an iterable)\n",
    "doubled_numbers_list = list(doubled_numbers)\n",
    "\n",
    "# Print the doubled numbers\n",
    "print(doubled_numbers_list)\n"
   ]
  },
  {
   "cell_type": "markdown",
   "id": "61180980-318d-453d-b141-d2b215d660f6",
   "metadata": {},
   "source": [
    "2. Write a Python program that uses the `map()` function to square each element of a list of numbers."
   ]
  },
  {
   "cell_type": "code",
   "execution_count": 41,
   "id": "70c54e24-b8e2-4e71-a3d0-59fed90aceb5",
   "metadata": {},
   "outputs": [
    {
     "name": "stdout",
     "output_type": "stream",
     "text": [
      "[1, 4, 9, 16, 25]\n"
     ]
    }
   ],
   "source": [
    "# Define a function to square a number\n",
    "def square(x):\n",
    "    return x ** 2\n",
    "\n",
    "# Create a list of numbers\n",
    "numbers = [1, 2, 3, 4, 5]\n",
    "\n",
    "# Use map() to apply the square function to each element of the list\n",
    "squared_numbers = map(square, numbers)\n",
    "\n",
    "# Convert the result to a list (since map returns an iterable)\n",
    "squared_numbers_list = list(squared_numbers)\n",
    "\n",
    "# Print the squared numbers\n",
    "print(squared_numbers_list)\n"
   ]
  },
  {
   "cell_type": "markdown",
   "id": "a805124e-a06b-4ab1-a8f5-bb63c3cc0b7c",
   "metadata": {},
   "source": [
    "3. How does the `map()` function differ from a list comprehension in Python, and when would you choose one over the other?"
   ]
  },
  {
   "cell_type": "markdown",
   "id": "743dfe3e-9bca-4eaa-acdc-2f87a2520e7d",
   "metadata": {},
   "source": [
    "The `map()` function and list comprehensions in Python serve similar purposes: both allow you to apply a function to each element of an iterable. However, they differ in their usage, readability, and some characteristics:\n",
    "\n",
    "1. **Usage**:\n",
    "   - `map()`: The `map()` function is a built-in Python function that takes a function and an iterable as arguments. It returns a map object, which can be converted to a list or another iterable type. It is primarily used for applying a function to every element of an iterable.\n",
    "   - List Comprehension: List comprehensions are a concise way to create lists. They allow you to construct a new list by specifying the elements you want to include based on a condition or transformation of existing elements.\n",
    "\n",
    "2. **Readability**:\n",
    "   - `map()`: While `map()` is useful for applying a function to each element, it can sometimes be less readable, especially when the function is more complex. You need to define the function separately and pass it to `map()`, which can lead to less concise code.\n",
    "   - List Comprehension: List comprehensions are often considered more readable and Pythonic, especially for simple operations. They allow you to express the transformation or filtering logic directly within the comprehension, making the code more self-contained.\n",
    "\n",
    "3. **Result**:\n",
    "   - `map()`: The result of `map()` is a map object, which is an iterable. To get a list, you need to convert it explicitly using `list()`. This can be seen as an extra step.\n",
    "   - List Comprehension: The result of a list comprehension is a new list, so there's no need for an additional conversion.\n",
    "\n",
    "4. **Flexibility**:\n",
    "   - `map()`: `map()` is mainly designed for applying a function to each element. While you can use it for more complex operations, it may be less intuitive in such cases.\n",
    "   - List Comprehension: List comprehensions are more versatile. You can perform various operations, including filtering, transformation, and even nested comprehensions, all in a concise and readable manner.\n",
    "\n",
    "When to Choose One Over the Other:\n",
    "- **Use `map()` when**:\n",
    "  - You have a specific function to apply to each element.\n",
    "  - You need to apply the same function to multiple iterables simultaneously (with `map(func, iterable1, iterable2)`).\n",
    "  - You prefer a functional programming style.\n",
    "- **Use list comprehensions when**:\n",
    "  - You want to create a new list with transformed or filtered elements.\n",
    "  - The operation is simple and doesn't require a separate function.\n",
    "  - You value code readability and conciseness.\n",
    "  - You need more flexibility, such as filtering or creating nested lists.\n",
    "\n",
    "In practice, list comprehensions are more commonly used for their readability and versatility, but both `map()` and list comprehensions have their places in Python programming, depending on the specific use case and coding style preferences."
   ]
  },
  {
   "cell_type": "markdown",
   "id": "74f88b63-0992-49a1-9d48-8d2b6374022a",
   "metadata": {},
   "source": [
    "4. Create a Python program that uses the `map()` function to convert a list of names to uppercase.\n",
    "\n"
   ]
  },
  {
   "cell_type": "code",
   "execution_count": 43,
   "id": "67168071-cee5-4c13-89aa-29b0a788e5c9",
   "metadata": {},
   "outputs": [
    {
     "name": "stdout",
     "output_type": "stream",
     "text": [
      "['ALICE', 'BOB', 'CHARLIE', 'DAVID', 'EVE']\n"
     ]
    }
   ],
   "source": [
    "# Define a function to convert a name to uppercase\n",
    "def convert_to_upper(name):\n",
    "    return name.upper()\n",
    "\n",
    "# List of names\n",
    "names = [\"Alice\", \"Bob\", \"Charlie\", \"David\", \"Eve\"]\n",
    "\n",
    "# Use map() to apply the function to each name and convert to uppercase\n",
    "upper_names = list(map(convert_to_upper, names))\n",
    "\n",
    "# Print the result\n",
    "print(upper_names)\n"
   ]
  },
  {
   "cell_type": "markdown",
   "id": "92cc3a29-d645-4e6f-8559-880a36b9154d",
   "metadata": {},
   "source": [
    "5. Write a Python program that uses the `map()` function to calculate the length of each word in a list of strings."
   ]
  },
  {
   "cell_type": "code",
   "execution_count": 44,
   "id": "116fc673-8ca6-484b-add5-760ee669aef5",
   "metadata": {},
   "outputs": [
    {
     "name": "stdout",
     "output_type": "stream",
     "text": [
      "[5, 5, 6, 11, 2, 3]\n"
     ]
    }
   ],
   "source": [
    "# List of strings\n",
    "strings = [\"Hello\", \"world\", \"Python\", \"programming\", \"is\", \"fun\"]\n",
    "\n",
    "# Use map() to apply the len() function to each word\n",
    "word_lengths = list(map(len, strings))\n",
    "\n",
    "# Print the result\n",
    "print(word_lengths)\n"
   ]
  },
  {
   "cell_type": "markdown",
   "id": "2c0f8303-314d-4d2b-9a81-79e7e994019c",
   "metadata": {},
   "source": [
    "6. How can you use the `map()` function to apply a custom function to elements of multiple lists simultaneously in Python?"
   ]
  },
  {
   "cell_type": "code",
   "execution_count": 45,
   "id": "e33cfc86-a865-4c91-b27b-9f19e4776333",
   "metadata": {},
   "outputs": [
    {
     "name": "stdout",
     "output_type": "stream",
     "text": [
      "[6, 8, 10, 12]\n"
     ]
    }
   ],
   "source": [
    "# Custom function that takes two arguments and calculates their sum\n",
    "def add(x, y):\n",
    "    return x + y\n",
    "\n",
    "# Lists of numbers\n",
    "list1 = [1, 2, 3, 4]\n",
    "list2 = [5, 6, 7, 8]\n",
    "\n",
    "# Use map() to apply the custom function to elements of both lists\n",
    "result = list(map(add, list1, list2))\n",
    "\n",
    "# Print the result\n",
    "print(result)\n"
   ]
  },
  {
   "cell_type": "markdown",
   "id": "601b0bbc-37b1-461d-a97d-3881cd51432e",
   "metadata": {},
   "source": [
    "7. Create a Python program that uses `map()` to convert a list of temperatures from Celsius to Fahrenheit."
   ]
  },
  {
   "cell_type": "code",
   "execution_count": 46,
   "id": "d082b9a8-4054-43de-a9c2-59a5176687ba",
   "metadata": {},
   "outputs": [
    {
     "name": "stdout",
     "output_type": "stream",
     "text": [
      "[77.0, 86.0, 59.0, 50.0, 95.0]\n"
     ]
    }
   ],
   "source": [
    "# Custom function to convert Celsius to Fahrenheit\n",
    "def celsius_to_fahrenheit(celsius):\n",
    "    return (celsius * 9/5) + 32\n",
    "\n",
    "# List of temperatures in Celsius\n",
    "celsius_temperatures = [25, 30, 15, 10, 35]\n",
    "\n",
    "# Use map() to apply the custom function to each temperature in the list\n",
    "fahrenheit_temperatures = list(map(celsius_to_fahrenheit, celsius_temperatures))\n",
    "\n",
    "# Print the converted temperatures in Fahrenheit\n",
    "print(fahrenheit_temperatures)\n"
   ]
  },
  {
   "cell_type": "markdown",
   "id": "7355832d-75fe-4e4c-9678-76ebffcf61fc",
   "metadata": {},
   "source": [
    "8. Write a Python program that uses the `map()` function to round each element of a list of floating-point numbers to the nearest integer."
   ]
  },
  {
   "cell_type": "code",
   "execution_count": 47,
   "id": "a527917e-5212-467c-9f1d-6b00682569fd",
   "metadata": {},
   "outputs": [
    {
     "name": "stdout",
     "output_type": "stream",
     "text": [
      "[3, 3, 2, 5, 1]\n"
     ]
    }
   ],
   "source": [
    "# List of floating-point numbers\n",
    "float_numbers = [3.14159, 2.71828, 1.61803, 4.66920, 0.57721]\n",
    "\n",
    "# Use map() to apply the round() function to each element in the list\n",
    "rounded_numbers = list(map(round, float_numbers))\n",
    "\n",
    "# Print the rounded numbers\n",
    "print(rounded_numbers)\n"
   ]
  },
  {
   "cell_type": "markdown",
   "id": "e0efdbac-69fc-4281-83a2-06a05ed0c4ff",
   "metadata": {},
   "source": [
    "# Reduce :-"
   ]
  },
  {
   "cell_type": "markdown",
   "id": "8d9e6a3d-d8c8-484d-8244-4b642cbceba7",
   "metadata": {},
   "source": [
    "1. What is the `reduce()` function in Python, and what module should you import to use it? Provide an example of its basic usage."
   ]
  },
  {
   "cell_type": "code",
   "execution_count": 48,
   "id": "cb80c95c-7034-4190-a3c8-6825d43a0ef2",
   "metadata": {},
   "outputs": [
    {
     "name": "stdout",
     "output_type": "stream",
     "text": [
      "15\n"
     ]
    }
   ],
   "source": [
    "from functools import reduce\n",
    "\n",
    "# Define a function to add two numbers\n",
    "def add(x, y):\n",
    "    return x + y\n",
    "\n",
    "# List of numbers\n",
    "numbers = [1, 2, 3, 4, 5]\n",
    "\n",
    "# Use reduce() to apply the add() function cumulatively\n",
    "result = reduce(add, numbers)\n",
    "\n",
    "# Print the result\n",
    "print(result)\n"
   ]
  },
  {
   "cell_type": "markdown",
   "id": "c652c74d-c29a-4aeb-a0a8-3aecc1a29104",
   "metadata": {},
   "source": [
    "2. Write a Python program that uses the `reduce()` function to find the product of all elements in a list."
   ]
  },
  {
   "cell_type": "code",
   "execution_count": 49,
   "id": "7472f379-5369-44a0-988e-799643f5cdd9",
   "metadata": {},
   "outputs": [
    {
     "name": "stdout",
     "output_type": "stream",
     "text": [
      "120\n"
     ]
    }
   ],
   "source": [
    "from functools import reduce\n",
    "\n",
    "# Define a function to multiply two numbers\n",
    "def multiply(x, y):\n",
    "    return x * y\n",
    "\n",
    "# List of numbers\n",
    "numbers = [1, 2, 3, 4, 5]\n",
    "\n",
    "# Use reduce() to apply the multiply() function cumulatively\n",
    "product = reduce(multiply, numbers)\n",
    "\n",
    "# Print the result\n",
    "print(product)\n"
   ]
  },
  {
   "cell_type": "markdown",
   "id": "9d591220-387b-4e98-a950-e601daa478a6",
   "metadata": {},
   "source": [
    "3. Create a Python program that uses `reduce()` to find the maximum element in a list of numbers."
   ]
  },
  {
   "cell_type": "code",
   "execution_count": 50,
   "id": "04bd8a90-c121-4b7b-87b3-a29f0acfacd9",
   "metadata": {},
   "outputs": [
    {
     "name": "stdout",
     "output_type": "stream",
     "text": [
      "The maximum number is: 89\n"
     ]
    }
   ],
   "source": [
    "from functools import reduce\n",
    "\n",
    "# Define a function to find the maximum of two numbers\n",
    "def find_max(x, y):\n",
    "    return x if x > y else y\n",
    "\n",
    "# List of numbers\n",
    "numbers = [12, 45, 78, 23, 56, 89, 34, 67]\n",
    "\n",
    "# Use reduce() to apply the find_max() function cumulatively\n",
    "max_number = reduce(find_max, numbers)\n",
    "\n",
    "# Print the maximum number\n",
    "print(\"The maximum number is:\", max_number)\n"
   ]
  },
  {
   "cell_type": "markdown",
   "id": "a849ac4f-7f41-41e3-b87f-6f70d01e4487",
   "metadata": {},
   "source": [
    "4. How can you use the `reduce()` function to concatenate a list of strings into a single string?"
   ]
  },
  {
   "cell_type": "code",
   "execution_count": 51,
   "id": "3ba2b82b-43f5-40f6-9d3a-6311042febb9",
   "metadata": {},
   "outputs": [
    {
     "name": "stdout",
     "output_type": "stream",
     "text": [
      "Hello, world!\n"
     ]
    }
   ],
   "source": [
    "from functools import reduce\n",
    "\n",
    "# List of strings\n",
    "strings = [\"Hello\", \", \", \"world\", \"!\"]\n",
    "\n",
    "# Define a function to concatenate two strings\n",
    "def concatenate_strings(x, y):\n",
    "    return x + y\n",
    "\n",
    "# Use reduce() to apply the concatenate_strings() function cumulatively\n",
    "result = reduce(concatenate_strings, strings)\n",
    "\n",
    "# Print the concatenated string\n",
    "print(result)\n"
   ]
  },
  {
   "cell_type": "markdown",
   "id": "220e190b-aad6-49ce-b01b-27d740751ebf",
   "metadata": {},
   "source": [
    "5. Write a Python program that calculates the factorial of a number using the `reduce()` function."
   ]
  },
  {
   "cell_type": "code",
   "execution_count": 52,
   "id": "649a083d-30fa-498f-a752-4c539c6acf2b",
   "metadata": {},
   "outputs": [
    {
     "name": "stdin",
     "output_type": "stream",
     "text": [
      "Enter a number:  12\n"
     ]
    },
    {
     "name": "stdout",
     "output_type": "stream",
     "text": [
      "The factorial of 12 is 479001600\n"
     ]
    }
   ],
   "source": [
    "from functools import reduce\n",
    "\n",
    "# Define a function to calculate the factorial\n",
    "def calculate_factorial(x, y):\n",
    "    return x * y\n",
    "\n",
    "# Input: The number for which you want to calculate the factorial\n",
    "number = int(input(\"Enter a number: \"))\n",
    "\n",
    "# Create a list of numbers from 1 to the input number\n",
    "numbers = list(range(1, number + 1))\n",
    "\n",
    "# Use reduce() to calculate the factorial\n",
    "factorial = reduce(calculate_factorial, numbers, 1)\n",
    "\n",
    "# Print the factorial\n",
    "print(f\"The factorial of {number} is {factorial}\")\n"
   ]
  },
  {
   "cell_type": "markdown",
   "id": "899436f7-2f8f-4f72-8ba2-e6d65ad79587",
   "metadata": {},
   "source": [
    "6. Create a Python program that uses `reduce()` to find the GCD (Greatest Common Divisor) of a list of numbers."
   ]
  },
  {
   "cell_type": "code",
   "execution_count": 53,
   "id": "055ebd2d-288e-4049-873c-5940970324fe",
   "metadata": {},
   "outputs": [
    {
     "name": "stdin",
     "output_type": "stream",
     "text": [
      "Enter a list of numbers separated by spaces:  10 20 30 40 50\n"
     ]
    },
    {
     "name": "stdout",
     "output_type": "stream",
     "text": [
      "The GCD of the numbers is: 10\n"
     ]
    }
   ],
   "source": [
    "from functools import reduce\n",
    "import math\n",
    "\n",
    "# Define a function to calculate the GCD of two numbers\n",
    "def calculate_gcd(x, y):\n",
    "    return math.gcd(x, y)\n",
    "\n",
    "# Input: List of numbers for which you want to find the GCD\n",
    "numbers = [int(x) for x in input(\"Enter a list of numbers separated by spaces: \").split()]\n",
    "\n",
    "# Use reduce() to find the GCD of the list of numbers\n",
    "gcd_result = reduce(calculate_gcd, numbers)\n",
    "\n",
    "# Print the GCD\n",
    "print(f\"The GCD of the numbers is: {gcd_result}\")\n"
   ]
  },
  {
   "cell_type": "markdown",
   "id": "95b949b9-b470-4a22-a990-f55ef6d22302",
   "metadata": {},
   "source": [
    "7. Write a Python program that uses the `reduce()` function to find the sum of the digits of a given number."
   ]
  },
  {
   "cell_type": "code",
   "execution_count": 54,
   "id": "9e582d2e-e6d9-4816-87f7-2f32e7596af5",
   "metadata": {},
   "outputs": [
    {
     "name": "stdin",
     "output_type": "stream",
     "text": [
      "Enter a number:  15\n"
     ]
    },
    {
     "name": "stdout",
     "output_type": "stream",
     "text": [
      "The sum of digits of the number is: 6\n"
     ]
    }
   ],
   "source": [
    "from functools import reduce\n",
    "\n",
    "# Define a function to calculate the sum of digits of two numbers\n",
    "def calculate_sum_of_digits(x, y):\n",
    "    return x + y\n",
    "\n",
    "# Input: A number for which you want to find the sum of digits\n",
    "number = int(input(\"Enter a number: \"))\n",
    "\n",
    "# Convert the number to a list of its digits as integers\n",
    "digits = [int(digit) for digit in str(number)]\n",
    "\n",
    "# Use reduce() to find the sum of the digits\n",
    "sum_of_digits = reduce(calculate_sum_of_digits, digits)\n",
    "\n",
    "# Print the sum of digits\n",
    "print(f\"The sum of digits of the number is: {sum_of_digits}\")\n"
   ]
  },
  {
   "cell_type": "markdown",
   "id": "335fcef4-0e18-44c9-b52c-4f6e6c87ad64",
   "metadata": {},
   "source": [
    "# Filter :-"
   ]
  },
  {
   "cell_type": "markdown",
   "id": "5d641af5-7885-4fe8-a360-7504ba6e959c",
   "metadata": {},
   "source": [
    "1. Explain the purpose of the `filter()` function in Python and provide an example of how it can be used to filter elements from an iterable."
   ]
  },
  {
   "cell_type": "markdown",
   "id": "3dfa3484-59de-4b04-b189-4a1fa0221b0c",
   "metadata": {},
   "source": [
    "The `filter()` function in Python is used to filter elements from an iterable (e.g., a list, tuple, or any iterable) based on a specified condition. It returns an iterator that contains the elements from the original iterable for which the condition evaluates to `True`."
   ]
  },
  {
   "cell_type": "markdown",
   "id": "101fcd0d-1ffb-4cf1-9b22-6f152522eb6c",
   "metadata": {},
   "source": [
    "The syntax of the `filter()` function is as follows:"
   ]
  },
  {
   "cell_type": "code",
   "execution_count": 3,
   "id": "4badb45d-315a-4d0f-9a64-2ca74cc63dec",
   "metadata": {},
   "outputs": [],
   "source": [
    "# filter(function, iterable)"
   ]
  },
  {
   "cell_type": "markdown",
   "id": "4d27ba22-5b47-47eb-a614-9a2d1c1880c9",
   "metadata": {},
   "source": [
    "- `function`: A function that defines the condition for filtering. This function should return `True` for elements that should be included in the result.\n",
    "\n",
    "- `iterable`: The iterable from which elements will be filtered.\n",
    "\n",
    "Here's an example of how the `filter()` function can be used to filter even numbers from a list of integers:"
   ]
  },
  {
   "cell_type": "code",
   "execution_count": 1,
   "id": "becf6de1-ca73-45e3-ab09-a0842fd12b34",
   "metadata": {},
   "outputs": [
    {
     "name": "stdout",
     "output_type": "stream",
     "text": [
      "[2, 4, 6, 8, 10]\n"
     ]
    }
   ],
   "source": [
    "# Define a function to check if a number is even\n",
    "def is_even(number):\n",
    "    return number % 2 == 0\n",
    "\n",
    "# List of integers\n",
    "numbers = [1, 2, 3, 4, 5, 6, 7, 8, 9, 10]\n",
    "\n",
    "# Use filter() to filter even numbers from the list\n",
    "even_numbers = filter(is_even, numbers)\n",
    "\n",
    "# Convert the result to a list (optional)\n",
    "even_numbers_list = list(even_numbers)\n",
    "\n",
    "# Print the filtered even numbers\n",
    "print(even_numbers_list)"
   ]
  },
  {
   "cell_type": "markdown",
   "id": "fd949b57-8458-4d67-9990-126f89e6640e",
   "metadata": {},
   "source": [
    "In this example:\n",
    "\n",
    "1. We define a function `is_even(number)` that checks if a given number is even by using the modulo operator `%`.\n",
    "\n",
    "2. We create a list of integers called `numbers`.\n",
    "\n",
    "3. We use the `filter()` function to filter even numbers from the `numbers` list by applying the `is_even()` function as the condition.\n",
    "\n",
    "4. Since `filter()` returns an iterator, we convert it to a list using `list()` to display the filtered even numbers as a list.\n",
    "\n",
    "5. Finally, we print the list of even numbers.\n",
    "\n",
    "The `filter()` function is a powerful tool for selectively extracting elements from an iterable based on a specified condition, making it a valuable tool for data filtering and processing."
   ]
  },
  {
   "cell_type": "markdown",
   "id": "0a068dd7-a549-4e06-94f0-c70c528a8e36",
   "metadata": {},
   "source": [
    "2. Write a Python program that uses the `filter()` function to select even numbers from a list of integers."
   ]
  },
  {
   "cell_type": "code",
   "execution_count": 4,
   "id": "9f8f5dba-0f79-4232-8a7b-ba26bb7535ce",
   "metadata": {},
   "outputs": [
    {
     "name": "stdout",
     "output_type": "stream",
     "text": [
      "[2, 4, 6, 8, 10]\n"
     ]
    }
   ],
   "source": [
    "# Define a function to check if a number is even\n",
    "def is_even(number):\n",
    "    return number % 2 == 0\n",
    "\n",
    "# List of integers\n",
    "numbers = [1, 2, 3, 4, 5, 6, 7, 8, 9, 10]\n",
    "\n",
    "# Use filter() to select even numbers from the list\n",
    "even_numbers = filter(is_even, numbers)\n",
    "\n",
    "# Convert the result to a list (optional)\n",
    "even_numbers_list = list(even_numbers)\n",
    "\n",
    "# Print the selected even numbers\n",
    "print(even_numbers_list)\n"
   ]
  },
  {
   "cell_type": "markdown",
   "id": "b2757942-c2f5-4a51-a847-12add71ce1f5",
   "metadata": {},
   "source": [
    "3. Create a Python program that uses the `filter()` function to select names that start with a specific letter from a list of strings."
   ]
  },
  {
   "cell_type": "code",
   "execution_count": 5,
   "id": "d20f3e54-5621-4e14-9fb1-9ada38694c94",
   "metadata": {},
   "outputs": [
    {
     "name": "stdout",
     "output_type": "stream",
     "text": [
      "['David']\n"
     ]
    }
   ],
   "source": [
    "# List of names\n",
    "names = [\"Alice\", \"Bob\", \"Charlie\", \"David\", \"Eve\", \"Frank\"]\n",
    "\n",
    "# Specify the letter to filter by\n",
    "letter_to_filter = \"D\"\n",
    "\n",
    "# Use filter() to select names starting with the specified letter\n",
    "filtered_names = filter(lambda name: name.startswith(letter_to_filter), names)\n",
    "\n",
    "# Convert the result to a list (optional)\n",
    "filtered_names_list = list(filtered_names)\n",
    "\n",
    "# Print the selected names\n",
    "print(filtered_names_list)\n"
   ]
  },
  {
   "cell_type": "markdown",
   "id": "923ac2c2-01cf-4a81-a19a-1291f06fa252",
   "metadata": {},
   "source": [
    "4. Write a Python program that uses the `filter()` function to select prime numbers from a list of integers."
   ]
  },
  {
   "cell_type": "code",
   "execution_count": 6,
   "id": "718a33d0-28be-4c62-9bf3-d419fc4a6948",
   "metadata": {},
   "outputs": [
    {
     "name": "stdout",
     "output_type": "stream",
     "text": [
      "[2, 3, 5, 7, 11, 13, 17, 19]\n"
     ]
    }
   ],
   "source": [
    "# Helper function to check if a number is prime\n",
    "def is_prime(num):\n",
    "    if num <= 1:\n",
    "        return False\n",
    "    if num <= 3:\n",
    "        return True\n",
    "    if num % 2 == 0 or num % 3 == 0:\n",
    "        return False\n",
    "    i = 5\n",
    "    while i * i <= num:\n",
    "        if num % i == 0 or num % (i + 2) == 0:\n",
    "            return False\n",
    "        i += 6\n",
    "    return True\n",
    "\n",
    "# List of integers\n",
    "numbers = [2, 3, 5, 6, 7, 9, 11, 12, 13, 17, 19, 20]\n",
    "\n",
    "# Use filter() to select prime numbers\n",
    "prime_numbers = filter(is_prime, numbers)\n",
    "\n",
    "# Convert the result to a list (optional)\n",
    "prime_numbers_list = list(prime_numbers)\n",
    "\n",
    "# Print the prime numbers\n",
    "print(prime_numbers_list)\n"
   ]
  },
  {
   "cell_type": "markdown",
   "id": "27529cdd-042d-4dd3-ad09-e394811ff85f",
   "metadata": {},
   "source": [
    "5. How can you use the `filter()` function to remove None values from a list in Python?"
   ]
  },
  {
   "cell_type": "code",
   "execution_count": 7,
   "id": "44185920-bebd-445a-8b6e-b5d7af04cf6e",
   "metadata": {},
   "outputs": [
    {
     "name": "stdout",
     "output_type": "stream",
     "text": [
      "[1, 2, 3, 4, 5]\n"
     ]
    }
   ],
   "source": [
    "# List with None values\n",
    "values = [1, None, 2, None, 3, 4, None, 5, None]\n",
    "\n",
    "# Define a filtering function that keeps non-None values\n",
    "def filter_none(value):\n",
    "    return value is not None\n",
    "\n",
    "# Use filter() to remove None values\n",
    "filtered_values = filter(filter_none, values)\n",
    "\n",
    "# Convert the result to a list (optional)\n",
    "filtered_values_list = list(filtered_values)\n",
    "\n",
    "# Print the filtered list\n",
    "print(filtered_values_list)\n"
   ]
  },
  {
   "cell_type": "markdown",
   "id": "3ba49be3-cb62-4b33-938a-e12061abcf96",
   "metadata": {},
   "source": [
    "In this program:\n",
    "\n",
    "- We have a list called values that contains some None values along with other values.\n",
    "\n",
    "- We define a filtering function called filter_none(value) that returns True if the value is not None, and False otherwise.\n",
    "\n",
    "- We use the filter() function to remove None values from the list by applying the filter_none() function as the condition.\n",
    "\n",
    "- Optionally, we convert the result to a list using list() to display the filtered values as a list.\n",
    "\n",
    "- Finally, we print the filtered list."
   ]
  },
  {
   "cell_type": "markdown",
   "id": "9d8c6fc4-bf69-49a0-a157-50ba52c1d520",
   "metadata": {},
   "source": [
    "6. Create a Python program that uses `filter()` to select words longer than a certain length from a list of strings."
   ]
  },
  {
   "cell_type": "code",
   "execution_count": 8,
   "id": "8d49e481-74c9-460f-845a-3abd3d87e1ac",
   "metadata": {},
   "outputs": [
    {
     "name": "stdout",
     "output_type": "stream",
     "text": [
      "['banana', 'cherry', 'elderberry']\n"
     ]
    }
   ],
   "source": [
    "# List of strings\n",
    "words = [\"apple\", \"banana\", \"cherry\", \"date\", \"elderberry\", \"fig\", \"grape\"]\n",
    "\n",
    "# Define a filtering function that keeps words longer than a certain length\n",
    "def filter_long_words(word, min_length):\n",
    "    return len(word) > min_length\n",
    "\n",
    "# Minimum length for words you want to keep\n",
    "min_length = 5\n",
    "\n",
    "# Use filter() to select words longer than min_length\n",
    "filtered_words = filter(lambda word: filter_long_words(word, min_length), words)\n",
    "\n",
    "# Convert the result to a list (optional)\n",
    "filtered_words_list = list(filtered_words)\n",
    "\n",
    "# Print the filtered list\n",
    "print(filtered_words_list)\n"
   ]
  },
  {
   "cell_type": "markdown",
   "id": "72a4582f-d7bc-4200-b3b8-f16661379e29",
   "metadata": {},
   "source": [
    "7. Write a Python program that uses the `filter()` function to select elements greater than a specified threshold from a list of values."
   ]
  },
  {
   "cell_type": "code",
   "execution_count": 9,
   "id": "b690c4e3-4971-4210-a516-85b00b2156dc",
   "metadata": {},
   "outputs": [
    {
     "name": "stdout",
     "output_type": "stream",
     "text": [
      "[25, 30, 40, 50]\n"
     ]
    }
   ],
   "source": [
    "# List of values\n",
    "values = [10, 25, 5, 30, 15, 8, 40, 50]\n",
    "\n",
    "# Threshold value\n",
    "threshold = 20\n",
    "\n",
    "# Define a filtering function that keeps values greater than the threshold\n",
    "def filter_greater_than_threshold(value):\n",
    "    return value > threshold\n",
    "\n",
    "# Use filter() to select values greater than the threshold\n",
    "filtered_values = filter(filter_greater_than_threshold, values)\n",
    "\n",
    "# Convert the result to a list (optional)\n",
    "filtered_values_list = list(filtered_values)\n",
    "\n",
    "# Print the filtered list\n",
    "print(filtered_values_list)\n"
   ]
  },
  {
   "cell_type": "markdown",
   "id": "0a1fa987-f187-4656-9021-71aa274db585",
   "metadata": {},
   "source": [
    "In this program:\n",
    "\n",
    "- We have a list called values that contains various numerical values.\n",
    "\n",
    "- We specify a threshold value, which serves as the limit. We want to select values greater than this threshold.\n",
    "\n",
    "- We define a filtering function called filter_greater_than_threshold(value) that returns True if the value is greater than the threshold, and False otherwise.\n",
    "\n",
    "- We use the filter() function to select values greater than the threshold by applying the filter_greater_than_threshold() function to each element in the values list.\n",
    "\n",
    "- Optionally, we convert the result to a list using list() to display the filtered values as a list.\n",
    "\n",
    "- Finally, we print the filtered list."
   ]
  },
  {
   "cell_type": "markdown",
   "id": "ca25d2a7-d256-4fc4-8f13-9395e4cd27ef",
   "metadata": {},
   "source": [
    "# Recursion:-"
   ]
  },
  {
   "cell_type": "markdown",
   "id": "e78ba97d-c42a-4675-a7ef-6a4c97115ff1",
   "metadata": {},
   "source": [
    "1. Explain the concept of recursion in Python. How does it differ from iteration?"
   ]
  },
  {
   "cell_type": "markdown",
   "id": "a6092ee5-772a-4602-91b4-fa23c9c58002",
   "metadata": {},
   "source": [
    "**Recursion:**\n",
    "- Recursion involves a function calling itself to solve a problem.\n",
    "- It's suitable for problems that can be divided into smaller, similar subproblems.\n",
    "- Example: Calculating the factorial of a number using recursion."
   ]
  },
  {
   "cell_type": "code",
   "execution_count": 10,
   "id": "c751f7c9-d71d-49ae-b789-bbf333530ef1",
   "metadata": {},
   "outputs": [],
   "source": [
    "def factorial(n):\n",
    "    if n == 0:\n",
    "        return 1  # Base case\n",
    "    else:\n",
    "        return n * factorial(n - 1)  # Recursive case"
   ]
  },
  {
   "cell_type": "markdown",
   "id": "4c289116-1999-4d5d-98c2-798e8965879c",
   "metadata": {},
   "source": [
    "**Iteration:**\n",
    "- Iteration involves using loops (like `for` or `while`) to repeat a set of instructions.\n",
    "- It's suitable for simple looping tasks and working with sequences or collections.\n",
    "- Example: Calculating the factorial of a number using iteration."
   ]
  },
  {
   "cell_type": "code",
   "execution_count": 11,
   "id": "79e7e9fd-704d-410c-996c-e8e0e971e378",
   "metadata": {},
   "outputs": [],
   "source": [
    "def factorial(n):\n",
    "    result = 1\n",
    "    for i in range(1, n + 1):\n",
    "        result *= i\n",
    "    return result"
   ]
  },
  {
   "cell_type": "markdown",
   "id": "be1c8964-405b-42ea-9d81-e426091056c0",
   "metadata": {},
   "source": [
    "In summary, recursion uses function calls to solve problems by breaking them into smaller parts, while iteration uses loops to repeat instructions. Use recursion for problems that naturally involve breaking down into subproblems, and use iteration for simpler looping tasks or when working with sequences."
   ]
  },
  {
   "cell_type": "markdown",
   "id": "bac6eaae-1a39-4321-ab33-f3a10e49754c",
   "metadata": {},
   "source": [
    "2. Write a Python program to calculate the factorial of a number using recursion."
   ]
  },
  {
   "cell_type": "code",
   "execution_count": 12,
   "id": "e405d463-b406-47cc-a1fe-2cdfdb3530b7",
   "metadata": {},
   "outputs": [
    {
     "name": "stdin",
     "output_type": "stream",
     "text": [
      "Enter a non-negative integer:  3\n"
     ]
    },
    {
     "name": "stdout",
     "output_type": "stream",
     "text": [
      "3! = 6\n"
     ]
    }
   ],
   "source": [
    "def factorial(n):\n",
    "    if n == 0:\n",
    "        return 1  # Base case: 0! is defined as 1\n",
    "    else:\n",
    "        return n * factorial(n - 1)  # Recursive case: n! = n * (n-1)!\n",
    "\n",
    "# Input from the user\n",
    "num = int(input(\"Enter a non-negative integer: \"))\n",
    "\n",
    "# Check if the input is non-negative\n",
    "if num < 0:\n",
    "    print(\"Factorial is not defined for negative numbers.\")\n",
    "else:\n",
    "    result = factorial(num)\n",
    "    print(f\"{num}! = {result}\")\n"
   ]
  },
  {
   "cell_type": "markdown",
   "id": "4327a423-c7d4-4212-b3da-2303276fa143",
   "metadata": {},
   "source": [
    "3. Create a recursive Python function to find the nth Fibonacci number."
   ]
  },
  {
   "cell_type": "code",
   "execution_count": 13,
   "id": "f518b2e0-7827-432d-9ae0-5e97c9002e3b",
   "metadata": {},
   "outputs": [
    {
     "name": "stdin",
     "output_type": "stream",
     "text": [
      "Enter a non-negative integer (n):  9\n"
     ]
    },
    {
     "name": "stdout",
     "output_type": "stream",
     "text": [
      "The 9-th Fibonacci number is: 34\n"
     ]
    }
   ],
   "source": [
    "def fibonacci(n):\n",
    "    if n <= 0:\n",
    "        return 0  # First Fibonacci number\n",
    "    elif n == 1:\n",
    "        return 1  # Second Fibonacci number\n",
    "    else:\n",
    "        return fibonacci(n - 1) + fibonacci(n - 2)\n",
    "\n",
    "# Input from the user\n",
    "num = int(input(\"Enter a non-negative integer (n): \"))\n",
    "\n",
    "# Check if the input is non-negative\n",
    "if num < 0:\n",
    "    print(\"Fibonacci sequence is not defined for negative integers.\")\n",
    "else:\n",
    "    result = fibonacci(num)\n",
    "    print(f\"The {num}-th Fibonacci number is: {result}\")\n"
   ]
  },
  {
   "cell_type": "markdown",
   "id": "a2058b26-7810-4860-a96e-95060c82d205",
   "metadata": {},
   "source": [
    "4. Write a recursive Python function to calculate the sum of all elements in a list."
   ]
  },
  {
   "cell_type": "code",
   "execution_count": 14,
   "id": "9e8d2318-1e87-495d-8ea7-1d63a82f1fbb",
   "metadata": {},
   "outputs": [
    {
     "name": "stdout",
     "output_type": "stream",
     "text": [
      "The sum of elements in the list is: 15\n"
     ]
    }
   ],
   "source": [
    "def recursive_sum(lst):\n",
    "    # Base case: If the list is empty, the sum is 0.\n",
    "    if not lst:\n",
    "        return 0\n",
    "    else:\n",
    "        # Recursive case: Sum the first element and the sum of the rest of the list.\n",
    "        return lst[0] + recursive_sum(lst[1:])\n",
    "\n",
    "# Example usage:\n",
    "my_list = [1, 2, 3, 4, 5]\n",
    "result = recursive_sum(my_list)\n",
    "print(f\"The sum of elements in the list is: {result}\")\n"
   ]
  },
  {
   "cell_type": "markdown",
   "id": "da36c097-195d-4028-a124-f0b8e8f0333e",
   "metadata": {},
   "source": [
    "5. How can you prevent a recursive function from running indefinitely, causing a stack overflow error?"
   ]
  },
  {
   "cell_type": "markdown",
   "id": "e3e086ef-1ad8-4f0f-8369-f65bc76aba31",
   "metadata": {},
   "source": [
    "To prevent a recursive function from running indefinitely and causing a stack overflow error, you should ensure that your recursive function has a proper termination condition or base case. The base case defines when the recursion should stop and allows the function to return a result without making further recursive calls.\n",
    "\n",
    "Here are some tips to prevent infinite recursion:\n",
    "\n",
    "1. Define a Base Case: Make sure your recursive function has a base case that specifies when the recursion should stop. The base case should be reachable and provide a result without further recursive calls.\n",
    "\n",
    "2. Ensure Progress: In each recursive call, the problem size should decrease or progress should be made toward reaching the base case. This ensures that the function will eventually reach the base case.\n",
    "\n",
    "3. Check Input Validity: Validate the input parameters to your recursive function to handle invalid or edge cases gracefully. This can help prevent unexpected behavior.\n",
    "\n",
    "4. Test Thoroughly: Test your recursive function with various inputs, including edge cases, to ensure it behaves as expected and terminates correctly.\n",
    "\n",
    "5. Use Tail Recursion (if available): Some programming languages and compilers support tail call optimization, which can optimize tail-recursive functions to avoid stack overflow errors. Python, however, does not provide tail call optimization.\n",
    "\n",
    "Here's an example of a properly structured recursive function to calculate the factorial of a number with a base case:"
   ]
  },
  {
   "cell_type": "code",
   "execution_count": 15,
   "id": "a4870475-7507-411a-b9c0-5fc7dda191cc",
   "metadata": {},
   "outputs": [],
   "source": [
    "def factorial(n):\n",
    "    # Base case: If n is 0 or 1, return 1.\n",
    "    if n <= 1:\n",
    "        return 1\n",
    "    else:\n",
    "        # Recursive case: Multiply n by the factorial of (n-1).\n",
    "        return n * factorial(n - 1)\n",
    "    "
   ]
  },
  {
   "cell_type": "markdown",
   "id": "79d5ff9a-33cd-4c19-82a6-728468b6d92c",
   "metadata": {},
   "source": [
    "In this example, the base case ensures that the recursion stops when `n` reaches 0 or 1, preventing infinite recursion."
   ]
  },
  {
   "cell_type": "markdown",
   "id": "2c69c662-cf20-4321-a955-725c5cd8f095",
   "metadata": {},
   "source": [
    "6. Create a recursive Python function to find the greatest common divisor (GCD) of two numbers using the Euclidean algorithm."
   ]
  },
  {
   "cell_type": "code",
   "execution_count": 16,
   "id": "3725c6e7-bf70-489c-ba23-f33b882f5df2",
   "metadata": {},
   "outputs": [
    {
     "name": "stdout",
     "output_type": "stream",
     "text": [
      "The GCD of 48 and 18 is 6\n"
     ]
    }
   ],
   "source": [
    "def gcd(a, b):\n",
    "    if b == 0:\n",
    "        return a\n",
    "    else:\n",
    "        return gcd(b, a % b)\n",
    "\n",
    "# Example usage:\n",
    "num1 = 48\n",
    "num2 = 18\n",
    "result = gcd(num1, num2)\n",
    "print(f\"The GCD of {num1} and {num2} is {result}\")\n"
   ]
  },
  {
   "cell_type": "markdown",
   "id": "aeab1e0e-1f68-412d-ad2e-8abb66e661de",
   "metadata": {},
   "source": [
    "7. Write a recursive Python function to reverse a string."
   ]
  },
  {
   "cell_type": "code",
   "execution_count": 17,
   "id": "61a34349-a10f-4240-af1f-a302a40e1164",
   "metadata": {},
   "outputs": [
    {
     "name": "stdout",
     "output_type": "stream",
     "text": [
      "Original String: Hello, World!\n",
      "Reversed String: !dlroW ,olleH\n"
     ]
    }
   ],
   "source": [
    "def reverse_string(input_str):\n",
    "    # Base case: if the string is empty or has only one character, return itself\n",
    "    if len(input_str) <= 1:\n",
    "        return input_str\n",
    "    else:\n",
    "        # Recursive case: reverse the substring excluding the first character\n",
    "        # and concatenate it with the first character\n",
    "        return reverse_string(input_str[1:]) + input_str[0]\n",
    "\n",
    "# Example usage:\n",
    "original_str = \"Hello, World!\"\n",
    "reversed_str = reverse_string(original_str)\n",
    "print(f\"Original String: {original_str}\")\n",
    "print(f\"Reversed String: {reversed_str}\")\n"
   ]
  },
  {
   "cell_type": "markdown",
   "id": "01e01bfb-e653-44b6-ba5b-deb0cd8a5d47",
   "metadata": {},
   "source": [
    "8. Create a recursive Python function to calculate the power of a number (x^n)."
   ]
  },
  {
   "cell_type": "code",
   "execution_count": 18,
   "id": "6de23f29-7e35-4833-9133-03f2c23dce0d",
   "metadata": {},
   "outputs": [
    {
     "name": "stdout",
     "output_type": "stream",
     "text": [
      "2^3 = 8\n"
     ]
    }
   ],
   "source": [
    "def power(x, n):\n",
    "    # Base case: if n is 0, return 1 (x^0 = 1)\n",
    "    if n == 0:\n",
    "        return 1\n",
    "    # Recursive case: calculate x^n as x times x^(n-1)\n",
    "    else:\n",
    "        return x * power(x, n - 1)\n",
    "\n",
    "# Example usage:\n",
    "base = 2\n",
    "exponent = 3\n",
    "result = power(base, exponent)\n",
    "print(f\"{base}^{exponent} = {result}\")\n"
   ]
  },
  {
   "cell_type": "markdown",
   "id": "cd2a2b85-68f6-4e8f-a696-90fd9a5846ec",
   "metadata": {},
   "source": [
    "9. Write a recursive Python function to find all permutations of a given string."
   ]
  },
  {
   "cell_type": "code",
   "execution_count": 19,
   "id": "f9cd83f5-a189-43cc-920f-4d69e079b8e1",
   "metadata": {},
   "outputs": [
    {
     "name": "stdout",
     "output_type": "stream",
     "text": [
      "abc\n",
      "acb\n",
      "bac\n",
      "bca\n",
      "cab\n",
      "cba\n"
     ]
    }
   ],
   "source": [
    "def get_permutations(s):\n",
    "    # Base case: If the string has only one character or is empty, return it as a single-element list\n",
    "    if len(s) <= 1:\n",
    "        return [s]\n",
    "\n",
    "    # Recursive case:\n",
    "    # 1. Initialize an empty list to store permutations\n",
    "    permutations = []\n",
    "\n",
    "    # 2. Iterate through each character in the string\n",
    "    for i, char in enumerate(s):\n",
    "        # 3. Create a substring without the current character\n",
    "        remaining_chars = s[:i] + s[i + 1:]\n",
    "\n",
    "        # 4. Recursively find permutations of the remaining substring\n",
    "        for perm in get_permutations(remaining_chars):\n",
    "            # 5. Append the current character to each permutation of the remaining substring\n",
    "            permutations.append(char + perm)\n",
    "\n",
    "    return permutations\n",
    "\n",
    "# Input a string\n",
    "input_string = \"abc\"\n",
    "permutations = get_permutations(input_string)\n",
    "\n",
    "# Print the list of permutations\n",
    "for perm in permutations:\n",
    "    print(perm)\n"
   ]
  },
  {
   "cell_type": "markdown",
   "id": "7cc6db5b-8677-4a3f-bded-3fe16c54fdb6",
   "metadata": {},
   "source": [
    "In this code:\n",
    "\n",
    "- The get_permutations function takes a string s as input.\n",
    "\n",
    "- In the base case, if the length of the string is less than or equal to 1, it returns a list containing the input string as a single element. This is because there is only one permutation of a single character or an empty string.\n",
    "\n",
    "- In the recursive case, it initializes an empty list called permutations to store the permutations.\n",
    "\n",
    "- It iterates through each character in the string and creates a substring without the current character.\n",
    "\n",
    "- It recursively finds permutations of the remaining substring.\n",
    "\n",
    "- For each permutation of the remaining substring, it appends the current character to the beginning and adds it to the permutations list.\n",
    "\n",
    "- Finally, it returns the list of all permutations."
   ]
  },
  {
   "cell_type": "markdown",
   "id": "a8329ff3-95aa-4ed5-983e-3ca22c778fb5",
   "metadata": {},
   "source": [
    "10. Write a recursive Python function to check if a string is a palindrome."
   ]
  },
  {
   "cell_type": "code",
   "execution_count": 20,
   "id": "4aca5255-741c-415e-a2a0-cedd664c881c",
   "metadata": {},
   "outputs": [
    {
     "name": "stdout",
     "output_type": "stream",
     "text": [
      "racecar is a palindrome\n"
     ]
    }
   ],
   "source": [
    "def is_palindrome(s):\n",
    "    # Base case: If the string has 0 or 1 characters, it's a palindrome\n",
    "    if len(s) <= 1:\n",
    "        return True\n",
    "\n",
    "    # Check if the first and last characters are the same\n",
    "    if s[0] != s[-1]:\n",
    "        return False\n",
    "\n",
    "    # Recursively check the substring without the first and last characters\n",
    "    return is_palindrome(s[1:-1])\n",
    "\n",
    "# Input a string\n",
    "input_string = \"racecar\"\n",
    "\n",
    "# Check if it's a palindrome\n",
    "if is_palindrome(input_string):\n",
    "    print(f\"{input_string} is a palindrome\")\n",
    "else:\n",
    "    print(f\"{input_string} is not a palindrome\")\n"
   ]
  },
  {
   "cell_type": "markdown",
   "id": "0449d1aa-bad6-467c-a8b4-58656f135526",
   "metadata": {},
   "source": [
    "11. Create a recursive Python function to generate all possible combinations of a list of elements."
   ]
  },
  {
   "cell_type": "code",
   "execution_count": 21,
   "id": "ef73ecd8-69c2-49fe-89fa-4d03b2911245",
   "metadata": {},
   "outputs": [
    {
     "name": "stdout",
     "output_type": "stream",
     "text": [
      "[1, 2]\n",
      "[1, 3]\n",
      "[2, 3]\n"
     ]
    }
   ],
   "source": [
    "def generate_combinations(elements, k, current_combination=[]):\n",
    "    if k == 0:\n",
    "        yield current_combination\n",
    "        return\n",
    "    if not elements:\n",
    "        return\n",
    "\n",
    "    # Include the first element in the combination\n",
    "    for combination in generate_combinations(elements[1:], k - 1, current_combination + [elements[0]]):\n",
    "        yield combination\n",
    "\n",
    "    # Exclude the first element from the combination\n",
    "    for combination in generate_combinations(elements[1:], k, current_combination):\n",
    "        yield combination\n",
    "\n",
    "# Example usage:\n",
    "elements = [1, 2, 3]\n",
    "k = 2\n",
    "\n",
    "for combination in generate_combinations(elements, k):\n",
    "    print(combination)\n"
   ]
  },
  {
   "cell_type": "markdown",
   "id": "8a6ae71b-6e35-4893-94ae-14d20bf24b6a",
   "metadata": {},
   "source": [
    "# Basics of Functions:"
   ]
  },
  {
   "cell_type": "markdown",
   "id": "c456ebc0-736d-427a-912d-27e1f2805c35",
   "metadata": {},
   "source": [
    "1. What is a function in Python, and why is it used?"
   ]
  },
  {
   "cell_type": "markdown",
   "id": "3a22f43e-a19e-4e67-8ada-c562a88d02b9",
   "metadata": {},
   "source": [
    "A function in Python is a named block of code that performs a specific task or set of tasks. Functions are a fundamental concept in programming and play a crucial role in structuring and organizing code. Here are some key points about functions in Python:\n",
    "\n",
    "1. **Function Definition:** In Python, you define a function using the `def` keyword, followed by the function name, a pair of parentheses `()`, and a colon `:`. The function's code block is indented and follows the colon.\n",
    "\n",
    "2. **Function Name:** A function name should be descriptive and follow Python's naming conventions. It should also be unique within your code.\n",
    "\n",
    "3. **Parameters:** Functions can accept input values known as parameters or arguments. These values are placed within the parentheses when defining the function and are used within the function's code block.\n",
    "\n",
    "4. **Return Value:** Functions can return a value using the `return` statement. The return value is the result of the function's computation and can be assigned to a variable or used in expressions.\n",
    "\n",
    "5. **Code Reusability:** Functions are used to encapsulate a piece of functionality that can be reused multiple times in a program. This promotes code reusability and makes your code more modular and maintainable.\n",
    "\n",
    "6. **Abstraction:** Functions allow you to abstract away the implementation details of a task. Users of the function only need to know how to use it (its interface) without needing to understand how it works internally.\n",
    "\n",
    "7. **Readability:** Functions improve the readability of your code by breaking it into smaller, manageable pieces. Each function typically performs a specific, well-defined task, making the code easier to understand.\n",
    "\n",
    "8. **Organization:** Functions help organize your code by grouping related operations together. This modular approach makes it easier to locate and update specific parts of your program.\n",
    "\n",
    "Here's a simple example of a Python function:"
   ]
  },
  {
   "cell_type": "code",
   "execution_count": 22,
   "id": "1aee7c72-e435-4548-b932-31325575f16a",
   "metadata": {},
   "outputs": [
    {
     "name": "stdout",
     "output_type": "stream",
     "text": [
      "Hello, Alice!\n"
     ]
    }
   ],
   "source": [
    "def greet(name):\n",
    "    \"\"\"This function greets the person passed in as a parameter.\"\"\"\n",
    "    print(f\"Hello, {name}!\")\n",
    "\n",
    "# Calling the function\n",
    "greet(\"Alice\")"
   ]
  },
  {
   "cell_type": "markdown",
   "id": "205e0571-27e8-4510-95c6-8a19cf60fa46",
   "metadata": {},
   "source": [
    "In this example, `greet` is a function that accepts a `name` parameter and prints a greeting message. Functions like these can be called with different names to greet various individuals, promoting code reusability and maintainability."
   ]
  },
  {
   "cell_type": "markdown",
   "id": "03ac08ae-b3ae-4914-9b7b-7a2d86294795",
   "metadata": {},
   "source": [
    "2. How do you define a function in Python? Provide an example."
   ]
  },
  {
   "cell_type": "markdown",
   "id": "a65ec023-96f3-4083-85f2-f056f131bdd6",
   "metadata": {},
   "source": [
    "In Python, you can define a function using the `def` keyword, followed by the function name, a pair of parentheses `()`, and a colon `:`. The function's code block is indented and follows the colon. You can also specify parameters within the parentheses if your function requires input values. Here's the basic syntax for defining a function:"
   ]
  },
  {
   "cell_type": "code",
   "execution_count": 24,
   "id": "ca5b7a74-8e9c-4816-931d-99d9695b7902",
   "metadata": {},
   "outputs": [],
   "source": [
    "def function_name(parameters):\n",
    "    # Function code here\n",
    "    # ...\n",
    "    return result  # Optional, used to return a value"
   ]
  },
  {
   "cell_type": "markdown",
   "id": "21ff781f-6623-4b43-8afb-99d4023cd66f",
   "metadata": {},
   "source": [
    "Here's an example of defining a simple function that calculates the square of a number:"
   ]
  },
  {
   "cell_type": "code",
   "execution_count": 23,
   "id": "5763f7d4-d29e-4d91-a29e-8c80dd9d229c",
   "metadata": {},
   "outputs": [
    {
     "name": "stdout",
     "output_type": "stream",
     "text": [
      "25\n"
     ]
    }
   ],
   "source": [
    "def square(x):\n",
    "    \"\"\"This function calculates the square of a number.\"\"\"\n",
    "    return x ** 2\n",
    "\n",
    "# Calling the function\n",
    "result = square(5)\n",
    "print(result)  # Output: 25"
   ]
  },
  {
   "cell_type": "markdown",
   "id": "f4d6b04c-e450-4a39-a8c0-fb8ee1bd8218",
   "metadata": {},
   "source": [
    "In this example:\n",
    "\n",
    "- The function `square` takes a single parameter `x`.\n",
    "- Inside the function, it calculates the square of `x` using the `**` operator.\n",
    "- The optional docstring (enclosed in triple quotes) provides a brief description of the function's purpose.\n",
    "- The `return` statement is used to return the calculated result.\n",
    "\n",
    "You can call this function with different values of `x` to calculate the square of those values. Functions can have more complex logic and can accept multiple parameters depending on your requirements."
   ]
  },
  {
   "cell_type": "markdown",
   "id": "d250efac-efa0-43ec-8cd2-36ccd87a1df3",
   "metadata": {
    "jp-MarkdownHeadingCollapsed": true,
    "tags": []
   },
   "source": [
    "3. Explain the difference between a function definition and a function call.  "
   ]
  },
  {
   "cell_type": "markdown",
   "id": "e27705f2-5525-4595-962c-a708eabb1773",
   "metadata": {},
   "source": [
    "In Python, a function definition and a function call are two distinct concepts:"
   ]
  },
  {
   "cell_type": "markdown",
   "id": "662dc08a-77e1-48e3-a8ed-aaaff96787ec",
   "metadata": {},
   "source": [
    "1. **Function Definition:**\n",
    "   - A function definition is where you define the structure, behavior, and logic of a function. It specifies what the function does when it's called and what parameters it accepts.\n",
    "   - It starts with the `def` keyword, followed by the function name, a pair of parentheses containing zero or more parameters, and a colon.\n",
    "   - The function definition includes the code block (indented) where the actual logic of the function is written.\n",
    "   - Function definitions serve as templates for creating callable functions.\n",
    "   - A function definition does not execute the code inside the function; it merely defines the function's behavior.\n",
    "\n",
    "   Example of a function definition:\n",
    "    "
   ]
  },
  {
   "cell_type": "code",
   "execution_count": 25,
   "id": "d5897a9a-d87d-4b8d-9549-7e5c674a250e",
   "metadata": {},
   "outputs": [],
   "source": [
    "def add(x, y):\n",
    "   \"\"\"This function adds two numbers.\"\"\"\n",
    "   result = x + y\n",
    "   return result"
   ]
  },
  {
   "cell_type": "markdown",
   "id": "3f43b8c2-7084-461a-82b5-7ab4d8a642a8",
   "metadata": {},
   "source": [
    "2. **Function Call:**\n",
    "   - A function call is where you use a defined function by invoking it with specific arguments or parameters.\n",
    "   - It consists of the function name followed by a pair of parentheses containing the actual values (arguments) that you want to pass to the function.\n",
    "   - When a function is called, the code inside the function definition is executed with the provided arguments.\n",
    "   - Function calls execute the logic defined within the function.\n",
    "\n",
    "   Example of a function call:\n",
    "        "
   ]
  },
  {
   "cell_type": "code",
   "execution_count": 27,
   "id": "1bc2de97-068f-47b3-a640-4d7a0c8fbe70",
   "metadata": {},
   "outputs": [
    {
     "name": "stdout",
     "output_type": "stream",
     "text": [
      "8\n"
     ]
    }
   ],
   "source": [
    "result = add(5, 3)\n",
    "print(result)"
   ]
  },
  {
   "cell_type": "markdown",
   "id": "528a6842-5119-4964-b6cd-01e82a077365",
   "metadata": {},
   "source": [
    "In this example, `add(5, 3)` is a function call, and it returns the result of adding 5 and 3.\n",
    "\n",
    "In summary, a function definition defines what a function does and how it behaves, while a function call actually uses that definition to perform a specific computation with provided input values."
   ]
  },
  {
   "cell_type": "markdown",
   "id": "75e26004-5a3d-4f6e-a04f-6a1ae229de16",
   "metadata": {},
   "source": [
    "4. Write a Python program that defines a function to calculate the sum of two numbers and then calls the function."
   ]
  },
  {
   "cell_type": "code",
   "execution_count": 28,
   "id": "debf91b3-d532-45a3-9041-1b87b3a5c92d",
   "metadata": {},
   "outputs": [
    {
     "name": "stdout",
     "output_type": "stream",
     "text": [
      "The sum is: 8\n"
     ]
    }
   ],
   "source": [
    "# Define a function to calculate the sum of two numbers\n",
    "def add_numbers(x, y):\n",
    "    result = x + y\n",
    "    return result\n",
    "\n",
    "# Call the function and store the result in a variable\n",
    "sum_result = add_numbers(5, 3)\n",
    "\n",
    "# Print the result\n",
    "print(\"The sum is:\", sum_result)\n"
   ]
  },
  {
   "cell_type": "markdown",
   "id": "eafbdc76-a16c-4cf2-aa52-da45a3995f3f",
   "metadata": {},
   "source": [
    "5. What is a function signature, and what information does it typically include?"
   ]
  },
  {
   "cell_type": "markdown",
   "id": "8ce5c6ee-dbb7-438c-ac87-8a361b56010e",
   "metadata": {},
   "source": [
    "A function signature, also known as a function header or function declaration, is a way to specify the essential information about a function in a programming language. It typically includes the following information:\n",
    "\n",
    "1. **Function Name:** This is the name by which the function can be called or referenced in the program.\n",
    "\n",
    "2. **Parameters:** It lists the input values (arguments) that the function accepts. Each parameter includes the parameter's name and data type. Parameters are enclosed in parentheses.\n",
    "\n",
    "3. **Return Type:** It specifies the data type of the value that the function will return after execution. Some languages allow functions to return multiple values.\n",
    "\n",
    "Here's an example of a function signature in Python:"
   ]
  },
  {
   "cell_type": "code",
   "execution_count": 30,
   "id": "58889576-a282-4812-a3d7-59aac61de51a",
   "metadata": {},
   "outputs": [],
   "source": [
    "def calculate_sum(x: int, y: int) -> int:\n",
    "    pass"
   ]
  },
  {
   "cell_type": "markdown",
   "id": "bee8c249-45f0-4099-91d8-774970664747",
   "metadata": {},
   "source": [
    "In this example:\n",
    "\n",
    "- **Function Name:** `calculate_sum`\n",
    "- **Parameters:** Two integer parameters, `x` and `y`.\n",
    "- **Return Type:** The function is expected to return an integer.\n",
    "\n",
    "The function signature provides a clear and concise way to understand how the function should be called, what inputs it expects, and what type of result it produces. It serves as a contract or documentation for the function's behavior, making it easier for developers to work with and understand the code."
   ]
  },
  {
   "cell_type": "markdown",
   "id": "4d1e3d00-751a-413b-acf0-4a44400e2cb0",
   "metadata": {},
   "source": [
    "6. Create a Python function that takes two arguments and returns their product."
   ]
  },
  {
   "cell_type": "code",
   "execution_count": 31,
   "id": "b9f10328-86ed-4a44-9527-459744d4dd6c",
   "metadata": {},
   "outputs": [
    {
     "name": "stdout",
     "output_type": "stream",
     "text": [
      "Product: 15\n"
     ]
    }
   ],
   "source": [
    "def calculate_product(x, y):\n",
    "    \"\"\"\n",
    "    Calculate the product of two numbers.\n",
    "    \n",
    "    Args:\n",
    "        x (float): The first number.\n",
    "        y (float): The second number.\n",
    "    \n",
    "    Returns:\n",
    "        float: The product of x and y.\n",
    "    \"\"\"\n",
    "    product = x * y\n",
    "    return product\n",
    "\n",
    "# Example usage:\n",
    "result = calculate_product(5, 3)\n",
    "print(\"Product:\", result)\n"
   ]
  },
  {
   "cell_type": "markdown",
   "id": "3b49cbe6-4f0d-4d22-8b16-15f213679db3",
   "metadata": {},
   "source": [
    "# Function Parameters and Arguments:"
   ]
  },
  {
   "cell_type": "markdown",
   "id": "cdf7354c-2c78-4f10-92a6-19af3c4cf108",
   "metadata": {},
   "source": [
    "1. Explain the concepts of formal parameters and actual arguments in Python functions."
   ]
  },
  {
   "cell_type": "markdown",
   "id": "fd218507-db46-4c61-8c61-f205c164fa77",
   "metadata": {},
   "source": [
    "In Python functions, formal parameters and actual arguments play important roles in passing data to functions and specifying how functions should operate. Here's an explanation of these concepts:\n",
    "\n",
    "1. **Formal Parameters**:\n",
    "   - Formal parameters are placeholders or variables used in the function definition to represent the values that will be passed to the function when it is called.\n",
    "   - They are like variables that are local to the function and are used to receive input data.\n",
    "   - Formal parameters are defined within the parentheses of the function's header.\n",
    "   - They act as variables that store the values passed as arguments when the function is called.\n",
    "\n",
    "   Example:"
   ]
  },
  {
   "cell_type": "code",
   "execution_count": 32,
   "id": "7e9a47ca-e83d-49ba-9546-9cccfdca8d55",
   "metadata": {},
   "outputs": [],
   "source": [
    "   def add(x, y):  # Here, 'x' and 'y' are formal parameters.\n",
    "       result = x + y\n",
    "       return result"
   ]
  },
  {
   "cell_type": "markdown",
   "id": "f59a34c9-38e2-4d74-8a02-df612f3081e8",
   "metadata": {},
   "source": [
    "2. **Actual Arguments (Arguments)**:\n",
    "   - Actual arguments are the values or expressions that are passed to a function when it is called.\n",
    "   - They are provided as input to the function to be processed.\n",
    "   - Actual arguments are used to replace the formal parameters in the function during execution."
   ]
  },
  {
   "cell_type": "code",
   "execution_count": 34,
   "id": "30cb2318-7d69-440f-b91e-a392c1385997",
   "metadata": {},
   "outputs": [
    {
     "name": "stdout",
     "output_type": "stream",
     "text": [
      "8\n"
     ]
    }
   ],
   "source": [
    "result = add(5, 3)  # Here, '5' and '3' are actual arguments.\n",
    "print(result)"
   ]
  },
  {
   "cell_type": "markdown",
   "id": "cb9a3534-0f17-4dea-9674-2303ef68a073",
   "metadata": {},
   "source": [
    "In the example above, `x` and `y` in the `add` function definition are formal parameters, and when we call `add(5, 3)`, the values `5` and `3` are the actual arguments that get assigned to `x` and `y` respectively within the function.\n",
    "\n",
    "Python allows different ways to pass actual arguments, such as positional arguments, keyword arguments, default arguments, and variable-length arguments, providing flexibility in how you call functions and pass data to them."
   ]
  },
  {
   "cell_type": "markdown",
   "id": "3d728465-c636-4c30-98eb-2ce00a183720",
   "metadata": {},
   "source": [
    "2. Write a Python program that defines a function with default argument values."
   ]
  },
  {
   "cell_type": "code",
   "execution_count": 35,
   "id": "c942d5e0-5988-4dcb-98cf-1831b13e4855",
   "metadata": {},
   "outputs": [
    {
     "name": "stdout",
     "output_type": "stream",
     "text": [
      "Hi, Alice!\n",
      "Hello, Bob!\n"
     ]
    }
   ],
   "source": [
    "def greet(name, greeting=\"Hello\"):\n",
    "    \"\"\"\n",
    "    This function greets a person with a specified greeting.\n",
    "    \n",
    "    :param name: The name of the person to greet.\n",
    "    :param greeting: The greeting message (default is \"Hello\").\n",
    "    :return: The complete greeting message.\n",
    "    \"\"\"\n",
    "    return f\"{greeting}, {name}!\"\n",
    "\n",
    "# Calling the function with both arguments provided\n",
    "print(greet(\"Alice\", \"Hi\"))  # Output: \"Hi, Alice!\"\n",
    "\n",
    "# Calling the function with only the 'name' argument provided (default greeting used)\n",
    "print(greet(\"Bob\"))  # Output: \"Hello, Bob!\"\n"
   ]
  },
  {
   "cell_type": "markdown",
   "id": "31c211a3-f5ed-494a-acc0-72a715d842a3",
   "metadata": {},
   "source": [
    "In the greet function, the name parameter is a required argument, while the greeting parameter has a default value of \"Hello\". When you call the function, you can provide values for both parameters or just provide a value for name, using the default value for greeting if it's not specified.\n",
    "\n",
    "Default arguments are helpful when you want to provide a sensible default behavior for a function but also allow customization when needed."
   ]
  },
  {
   "cell_type": "markdown",
   "id": "729ebfce-cc0b-4078-91d3-ffbe3847d030",
   "metadata": {},
   "source": [
    "3. How do you use keyword arguments in Python function calls? Provide an example."
   ]
  },
  {
   "cell_type": "code",
   "execution_count": 36,
   "id": "ea882e7e-8980-406c-b435-49c40cafc759",
   "metadata": {},
   "outputs": [
    {
     "name": "stdout",
     "output_type": "stream",
     "text": [
      "The total price is $98.00\n"
     ]
    }
   ],
   "source": [
    "def calculate_total(price, tax_rate, discount=0):\n",
    "    \"\"\"\n",
    "    Calculate the total price after applying tax and discount.\n",
    "\n",
    "    :param price: The base price of the item.\n",
    "    :param tax_rate: The tax rate as a decimal (e.g., 0.10 for 10% tax).\n",
    "    :param discount: The discount as a decimal (default is 0).\n",
    "    :return: The total price after tax and discount.\n",
    "    \"\"\"\n",
    "    total = price + (price * tax_rate) - (price * discount)\n",
    "    return total\n",
    "\n",
    "# Using keyword arguments to call the function\n",
    "total_price = calculate_total(price=100, tax_rate=0.08, discount=0.1)\n",
    "print(f\"The total price is ${total_price:.2f}\")\n"
   ]
  },
  {
   "cell_type": "markdown",
   "id": "12dbe6cc-ae8e-4771-add8-1270d679b63b",
   "metadata": {},
   "source": [
    "In this example, we've called the calculate_total function using keyword arguments for price, tax_rate, and discount. This makes it clear which argument corresponds to which parameter, improving code readability.\n",
    "\n",
    "Keyword arguments also allow you to specify some arguments by name while omitting others. If you don't provide a value for a parameter, it will use its default value (if defined).\n",
    "\n",
    "Using keyword arguments is especially useful when you have functions with many parameters or when you want to make your code more self-documenting by explicitly naming the arguments you're passing."
   ]
  },
  {
   "cell_type": "markdown",
   "id": "066a493b-082e-42a1-bc5e-8f136486c27a",
   "metadata": {},
   "source": [
    "4. Create a Python function that accepts a variable number of arguments and calculates their sum."
   ]
  },
  {
   "cell_type": "code",
   "execution_count": 37,
   "id": "20593a69-c8af-4f05-9b58-83ceff0b2880",
   "metadata": {},
   "outputs": [
    {
     "name": "stdout",
     "output_type": "stream",
     "text": [
      "Result 1: 15\n",
      "Result 2: 60\n",
      "Result 3: 12.2\n"
     ]
    }
   ],
   "source": [
    "def calculate_sum(*args):\n",
    "    \"\"\"\n",
    "    Calculate the sum of a variable number of arguments.\n",
    "\n",
    "    :param args: Variable number of arguments (numbers) to be summed.\n",
    "    :return: The sum of all arguments.\n",
    "    \"\"\"\n",
    "    total = sum(args)\n",
    "    return total\n",
    "\n",
    "# Using the calculate_sum function with different numbers of arguments\n",
    "result1 = calculate_sum(1, 2, 3, 4, 5)\n",
    "result2 = calculate_sum(10, 20, 30)\n",
    "result3 = calculate_sum(2.5, 3.7, 1.2, 4.8)\n",
    "\n",
    "print(f\"Result 1: {result1}\")\n",
    "print(f\"Result 2: {result2}\")\n",
    "print(f\"Result 3: {result3}\")\n"
   ]
  },
  {
   "cell_type": "markdown",
   "id": "22d3a762-707f-41dd-938a-87fbcddef814",
   "metadata": {},
   "source": [
    "In this example, the calculate_sum function uses the *args parameter, which allows it to accept any number of arguments. Inside the function, we use the sum() function to calculate the sum of all the arguments provided.\n",
    "\n",
    "You can call calculate_sum with different numbers of arguments, and it will calculate the sum accordingly. This flexibility makes it useful for functions where you don't know in advance how many arguments will be passed."
   ]
  },
  {
   "cell_type": "markdown",
   "id": "f22ce114-2bfa-414a-adec-fa0e9e1bf92f",
   "metadata": {},
   "source": [
    "5. What is the purpose of the `*args` and `**kwargs` syntax in function parameter lists?"
   ]
  },
  {
   "cell_type": "markdown",
   "id": "cb8df2b4-b02e-4d52-94fe-0b8888ab0709",
   "metadata": {},
   "source": [
    "In Python, `*args` and `**kwargs` are special syntax used in function parameter lists to handle a variable number of arguments or keyword arguments, respectively. They provide flexibility when defining functions that may accept different numbers of arguments or keyword arguments.\n",
    "\n",
    "1. `*args` (Arbitrary Positional Arguments):\n",
    "   - The `*args` syntax allows a function to accept a variable number of positional arguments.\n",
    "   - When you use `*args` in a function parameter list, it collects any additional positional arguments passed to the function into a tuple.\n",
    "   - You can then iterate through this tuple and work with the arguments as needed.\n",
    "\n",
    "   Example:\n",
    "        "
   ]
  },
  {
   "cell_type": "code",
   "execution_count": 38,
   "id": "f47402fc-9525-413c-8daa-c321427f2f57",
   "metadata": {},
   "outputs": [
    {
     "name": "stdout",
     "output_type": "stream",
     "text": [
      "15\n"
     ]
    }
   ],
   "source": [
    "def sum_values(*args):\n",
    "   total = sum(args)\n",
    "   return total\n",
    "\n",
    "result = sum_values(1, 2, 3, 4, 5)\n",
    "print(result)  # Output: 15"
   ]
  },
  {
   "cell_type": "markdown",
   "id": "085b365a-7f39-4521-8e65-708f3b022412",
   "metadata": {},
   "source": [
    "2. `**kwargs` (Arbitrary Keyword Arguments):\n",
    "   - The `**kwargs` syntax allows a function to accept a variable number of keyword arguments.\n",
    "   - When you use `**kwargs` in a function parameter list, it collects any additional keyword arguments passed to the function into a dictionary, where the keys are the argument names and the values are the argument values.\n",
    "   - You can then access and manipulate these keyword arguments as needed.\n",
    "\n",
    "   Example:"
   ]
  },
  {
   "cell_type": "code",
   "execution_count": 39,
   "id": "1a2d86f5-082f-4ee5-a42e-8a99a11cf26c",
   "metadata": {
    "jp-MarkdownHeadingCollapsed": true,
    "tags": []
   },
   "outputs": [
    {
     "name": "stdout",
     "output_type": "stream",
     "text": [
      "name: Alice\n",
      "age: 30\n",
      "city: New York\n"
     ]
    }
   ],
   "source": [
    "def print_info(**kwargs):\n",
    "   for key, value in kwargs.items():\n",
    "       print(f\"{key}: {value}\")\n",
    "\n",
    "print_info(name=\"Alice\", age=30, city=\"New York\")\n",
    "# Output:\n",
    "# name: Alice\n",
    "# age: 30\n",
    "# city: New York"
   ]
  },
  {
   "cell_type": "markdown",
   "id": "1fbb16f7-9096-48e1-8ca8-02f8c4f29356",
   "metadata": {},
   "source": [
    "These features are particularly useful when you want to create functions that are more flexible and can handle different argument scenarios. They are commonly used in various Python libraries and frameworks to build versatile functions and classes."
   ]
  },
  {
   "cell_type": "markdown",
   "id": "5f785d48-3812-462c-8c09-568909f1261b",
   "metadata": {},
   "source": [
    "# Return Values and Scoping:"
   ]
  },
  {
   "cell_type": "markdown",
   "id": "c17d7563-34a0-4e76-ae6a-ad4d43cb6fa2",
   "metadata": {},
   "source": [
    "1. Describe the role of the `return` statement in Python functions and provide examples."
   ]
  },
  {
   "cell_type": "markdown",
   "id": "9b27d7e7-b65c-4707-b8b5-b5231928e34f",
   "metadata": {},
   "source": [
    "In Python, the `return` statement is used to specify what value a function should give back as its result when it's called. The role of the `return` statement is to terminate the execution of the function and send a value back to the caller. Functions can return various types of values, including integers, strings, lists, dictionaries, or even other functions.\n",
    "\n",
    "Here's the basic syntax of the `return` statement:"
   ]
  },
  {
   "cell_type": "code",
   "execution_count": 40,
   "id": "65f7c394-e1ac-4e4b-8021-36010df219a8",
   "metadata": {},
   "outputs": [],
   "source": [
    "def function_name(arguments):\n",
    "    # Function logic\n",
    "    return value"
   ]
  },
  {
   "cell_type": "markdown",
   "id": "0bc4644b-e445-4770-a252-cb2733bf369c",
   "metadata": {},
   "source": [
    "Here are some key points about the `return` statement:\n",
    "\n",
    "1. **Termination of Execution:** When a `return` statement is encountered in a function, it immediately exits the function's execution and returns control to the caller.\n",
    "\n",
    "2. **Returning Values:** The `return` statement can be used to return a single value or an expression as the result of the function. This value can then be assigned to a variable or used in other parts of the program.\n",
    "\n",
    "3. **Multiple Return Statements:** A function can have multiple `return` statements, but only one of them will be executed during each function call. The choice of which `return` statement to execute depends on the flow of control within the function.\n",
    "\n",
    "Here are some examples of Python functions with `return` statements:"
   ]
  },
  {
   "cell_type": "code",
   "execution_count": 41,
   "id": "87242d20-a6cf-4662-9a4a-316eef3f1f90",
   "metadata": {},
   "outputs": [
    {
     "name": "stdout",
     "output_type": "stream",
     "text": [
      "8\n",
      "True\n",
      "Hello, Alice!\n"
     ]
    }
   ],
   "source": [
    "def add(a, b):\n",
    "    result = a + b\n",
    "    return result\n",
    "\n",
    "sum_result = add(5, 3)\n",
    "print(sum_result)  # Output: 8\n",
    "\n",
    "def is_even(number):\n",
    "    if number % 2 == 0:\n",
    "        return True\n",
    "    else:\n",
    "        return False\n",
    "\n",
    "print(is_even(4))  # Output: True\n",
    "\n",
    "def greet(name):\n",
    "    if name:\n",
    "        return f\"Hello, {name}!\"\n",
    "    else:\n",
    "        return \"Hello, World!\"\n",
    "\n",
    "greeting = greet(\"Alice\")\n",
    "print(greeting)  # Output: Hello, Alice!"
   ]
  },
  {
   "cell_type": "markdown",
   "id": "e4c8fad5-04f4-4ee3-8fdc-52674b9de4cd",
   "metadata": {},
   "source": [
    "In these examples, the `return` statement is used to provide the result of the function's computation or to return a specific message. The returned values can be stored in variables or used directly in code."
   ]
  },
  {
   "cell_type": "markdown",
   "id": "81b09398-5b36-45f4-90e1-8ac1555d13ac",
   "metadata": {},
   "source": [
    "2. Explain the concept of variable scope in Python, including local and global variables."
   ]
  },
  {
   "cell_type": "markdown",
   "id": "d7935493-c796-4798-9e43-e3449be7a8a0",
   "metadata": {},
   "source": [
    "Variable scope in Python refers to the region or context in which a variable is defined and can be accessed. Understanding variable scope is crucial for writing maintainable and bug-free code. Python has two main types of variable scope:\n",
    "\n",
    "1. **Local Scope:** Variables defined within a function have local scope. They are only accessible within the function in which they are defined. These variables are called local variables."
   ]
  },
  {
   "cell_type": "code",
   "execution_count": 44,
   "id": "39bdffeb-f3b4-491d-949f-2dff73fa5bac",
   "metadata": {},
   "outputs": [
    {
     "name": "stdout",
     "output_type": "stream",
     "text": [
      "10\n"
     ]
    }
   ],
   "source": [
    "def example_function():\n",
    "   local_var = 10  # local variable\n",
    "   print(local_var)\n",
    "\n",
    "example_function()  # Outputs: 10\n",
    "# print(local_var)    # Error: NameError - local_var is not defined outside the function"
   ]
  },
  {
   "cell_type": "markdown",
   "id": "46c41e8e-fa7d-4caa-94c5-84ca30786833",
   "metadata": {},
   "source": [
    "2. **Global Scope:** Variables defined outside of any function, at the top level of a script or module, have global scope. They can be accessed from any part of the code, including within functions. These variables are called global variables."
   ]
  },
  {
   "cell_type": "code",
   "execution_count": 42,
   "id": "039412da-5384-439d-9848-fe857c79af10",
   "metadata": {},
   "outputs": [
    {
     "name": "stdout",
     "output_type": "stream",
     "text": [
      "20\n"
     ]
    }
   ],
   "source": [
    "global_var = 20  # global variable\n",
    "\n",
    "def another_function():\n",
    "   print(global_var)  # Accessing the global variable\n",
    "\n",
    "another_function()  # Outputs: 20"
   ]
  },
  {
   "cell_type": "markdown",
   "id": "e12d9d82-1329-4383-9e23-26bb0fa13693",
   "metadata": {},
   "source": [
    "Variables in local scope are created when a function is called and destroyed when the function exits. They do not persist beyond the function's execution. In contrast, global variables are created when the program starts and remain in memory throughout the program's execution.\n",
    "\n",
    "When a variable is accessed within a function, Python first looks for it in the local scope. If not found, it then looks in the global scope. If the variable is not found in either scope, Python raises a `NameError`.\n",
    "\n",
    "It's important to be cautious when using global variables because they can lead to unexpected side effects and make code harder to understand and maintain. Modifying global variables within a function can have unintended consequences, so it's often better to pass values as arguments and return results from functions.\n",
    "\n",
    "Python also provides the `global` keyword, which allows you to modify global variables within a function's local scope. However, it's recommended to use this sparingly and consider alternative approaches for cleaner and more maintainable code.\n",
    "\n",
    "In addition to local and global scope, Python also has a concept of nested or enclosed scopes when functions are defined within other functions. Variables can be accessible in these nested scopes, but their accessibility follows the LEGB (Local, Enclosing, Global, Built-in) rule, which determines the order in which Python searches for variables."
   ]
  },
  {
   "cell_type": "markdown",
   "id": "f55a492f-f6e3-46d2-9f53-6428800fd168",
   "metadata": {},
   "source": [
    "3. Write a Python program that demonstrates the use of global variables within functions."
   ]
  },
  {
   "cell_type": "code",
   "execution_count": 45,
   "id": "81b9c150-1165-4687-8644-d5cd1c11362c",
   "metadata": {},
   "outputs": [
    {
     "name": "stdout",
     "output_type": "stream",
     "text": [
      "Global variable: 10\n",
      "Global variable: 15\n"
     ]
    }
   ],
   "source": [
    "# Global variable\n",
    "global_var = 10\n",
    "\n",
    "# Function to modify global variable\n",
    "def modify_global_variable():\n",
    "    global global_var  # Using the global keyword to access the global variable\n",
    "    global_var += 5\n",
    "\n",
    "# Function to access global variable\n",
    "def access_global_variable():\n",
    "    print(\"Global variable:\", global_var)\n",
    "\n",
    "# Initial value of global_var\n",
    "access_global_variable()  # Outputs: Global variable: 10\n",
    "\n",
    "# Modify the global variable\n",
    "modify_global_variable()\n",
    "\n",
    "# Value of global_var after modification\n",
    "access_global_variable()  # Outputs: Global variable: 15\n"
   ]
  },
  {
   "cell_type": "markdown",
   "id": "a49277fe-d6a8-4a39-a9ad-73066b479e83",
   "metadata": {},
   "source": [
    "In this example:\n",
    "- we have a global variable global_var initially set to 10. We define two functions: modify_global_variable, which uses the global keyword to access and modify the global variable, and access_global_variable, which simply prints the value of the global variable.\n",
    "\n",
    "- After calling modify_global_variable, the value of global_var is updated from 10 to 15, and we can see the updated value when we call access_global_variable.-"
   ]
  },
  {
   "cell_type": "markdown",
   "id": "d63f0267-93e5-4f28-96cf-96b791fed3a1",
   "metadata": {},
   "source": [
    "4. Create a Python function that calculates the factorial of a number and returns it."
   ]
  },
  {
   "cell_type": "code",
   "execution_count": 46,
   "id": "03611407-566f-42af-9d9f-df8e6d42bd1e",
   "metadata": {},
   "outputs": [
    {
     "name": "stdout",
     "output_type": "stream",
     "text": [
      "The factorial of 5 is 120\n"
     ]
    }
   ],
   "source": [
    "def factorial(n):\n",
    "    if n == 0:\n",
    "        return 1\n",
    "    else:\n",
    "        result = 1\n",
    "        for i in range(1, n + 1):\n",
    "            result *= i\n",
    "        return result\n",
    "\n",
    "# Example usage:\n",
    "number = 5\n",
    "result = factorial(number)\n",
    "print(f\"The factorial of {number} is {result}\")\n"
   ]
  },
  {
   "cell_type": "markdown",
   "id": "4b4ac170-5ed2-44cf-9150-14f02c311115",
   "metadata": {},
   "source": [
    "In this code:\n",
    "\n",
    "- The factorial function takes an integer n as its argument.\n",
    "- It first checks if n is equal to 0. If it is, the function returns 1 because the factorial of 0 is defined as 1.\n",
    "- If n is not 0, the function initializes a variable result to 1 and then uses a for loop to calculate the factorial by multiplying all numbers from 1 to n.\n",
    "- The final result is returned.\n",
    "- In the example provided, we calculate and print the factorial of the number \n",
    "- You can replace number with any integer value to calculate the factorial for that number."
   ]
  },
  {
   "cell_type": "markdown",
   "id": "f5008099-d3e2-41de-8216-093068b0d49d",
   "metadata": {},
   "source": [
    "5. How can you access variables defined outside a function from within the function?"
   ]
  },
  {
   "cell_type": "markdown",
   "id": "4d260796-2dd2-44bd-a3be-057ef8e7e879",
   "metadata": {
    "tags": []
   },
   "source": [
    "In Python, you can access variables defined outside a function from within the function by using the `global` keyword or by simply referencing the variable's name. The method you choose depends on whether you want to modify the global variable or just access its value.\n",
    "\n",
    "1. Using the `global` keyword:\n",
    "   - If you want to modify a global variable within a function, you need to declare it as `global` within the function. Here's an example:"
   ]
  },
  {
   "cell_type": "code",
   "execution_count": 48,
   "id": "ff697fe1-448e-4eb0-9993-9e39ba1f6bc9",
   "metadata": {},
   "outputs": [
    {
     "name": "stdout",
     "output_type": "stream",
     "text": [
      "15\n"
     ]
    }
   ],
   "source": [
    "global_var = 10\n",
    "\n",
    "def modify_global():\n",
    "   global global_var\n",
    "   global_var += 5\n",
    "\n",
    "modify_global()\n",
    "print(global_var)  # Outputs: 15"
   ]
  },
  {
   "cell_type": "markdown",
   "id": "efc9c758-6eb3-4f4f-b260-1481dd85d554",
   "metadata": {},
   "source": [
    "In this example, the `modify_global` function uses the `global` keyword to specify that it's modifying the `global_var` defined outside the function."
   ]
  },
  {
   "cell_type": "markdown",
   "id": "8a7f5a89-5ccd-401a-8b02-f389586a37ae",
   "metadata": {},
   "source": [
    "2. Referencing the variable's name:\n",
    "   - If you only want to access the value of a global variable within a function without modifying it, you can directly reference the variable's name. You don't need the `global` keyword in this case."
   ]
  },
  {
   "cell_type": "code",
   "execution_count": 49,
   "id": "69ddca14-6069-44cb-beec-6a400e691c6c",
   "metadata": {},
   "outputs": [
    {
     "name": "stdout",
     "output_type": "stream",
     "text": [
      "10\n"
     ]
    }
   ],
   "source": [
    "global_var = 10\n",
    "\n",
    "def access_global():\n",
    "   print(global_var)\n",
    "\n",
    "access_global()  # Outputs: 10"
   ]
  },
  {
   "cell_type": "markdown",
   "id": "51467aa6-17ca-4a67-a8cf-5cd812394115",
   "metadata": {},
   "source": [
    "Here, the `access_global` function simply prints the value of `global_var`.\n",
    "\n",
    "Remember that using global variables within functions can make your code less modular and harder to maintain. It's generally recommended to pass variables as arguments to functions when possible, rather than relying on global variables."
   ]
  },
  {
   "cell_type": "markdown",
   "id": "d9ea79c1-de2b-4af4-a261-b9b6ceebae91",
   "metadata": {},
   "source": [
    "# Lambda Functions and Higher-Order Functions:"
   ]
  },
  {
   "cell_type": "markdown",
   "id": "246408d5-afec-4578-9046-4a5a945b8c57",
   "metadata": {},
   "source": [
    "1. What are lambda functions in Python, and when are they typically used?"
   ]
  },
  {
   "cell_type": "markdown",
   "id": "364c7b3f-9674-4733-9023-8cdc6569808a",
   "metadata": {},
   "source": [
    "Lambda functions in Python, also known as anonymous functions, are small, anonymous functions defined using the `lambda` keyword. They are typically used for short, simple operations where a full function definition using `def` would be unnecessarily verbose. Lambda functions have the following characteristics:\n",
    "\n",
    "1. Anonymous: Lambda functions are unnamed and don't require a formal function name.\n",
    "\n",
    "2. Concise: They are typically concise and defined in a single line of code.\n",
    "\n",
    "3. Single Expression: Lambda functions can only contain a single expression, but that expression can be as complex as needed.\n",
    "\n",
    "Lambda functions are often used in situations where you need to pass a small function as an argument to a higher-order function, such as `map()`, `filter()`, and `sorted()`. They are also commonly used for quick, throwaway functions when readability is not compromised.\n",
    "\n",
    "Here's the basic syntax of a lambda function:\n",
    "\n",
    "```python\n",
    "lambda arguments: expression\n",
    "```\n",
    "\n",
    "For example, you can use a lambda function to square a number:"
   ]
  },
  {
   "cell_type": "code",
   "execution_count": 50,
   "id": "61bb42df-d5aa-4962-8073-be0829c65f03",
   "metadata": {},
   "outputs": [
    {
     "name": "stdout",
     "output_type": "stream",
     "text": [
      "25\n"
     ]
    }
   ],
   "source": [
    "square = lambda x: x ** 2\n",
    "print(square(5))  # Outputs: 25"
   ]
  },
  {
   "cell_type": "markdown",
   "id": "18dc9da3-4306-4899-a7d1-e47de52c4400",
   "metadata": {},
   "source": [
    "Lambda functions are particularly useful when you need a simple function for a short-lived operation and don't want to define a named function using `def`."
   ]
  },
  {
   "cell_type": "markdown",
   "id": "3dba2deb-0840-4938-8e3e-94175d0a9d46",
   "metadata": {},
   "source": [
    "2. Write a Python program that uses lambda functions to sort a list of tuples based on the second element."
   ]
  },
  {
   "cell_type": "markdown",
   "id": "d317619a-b751-4661-af93-9a734b9f8eec",
   "metadata": {},
   "source": [
    "You can use the `sorted()` function with a lambda function as the key argument to sort a list of tuples based on the second element. Here's a Python program that demonstrates this:"
   ]
  },
  {
   "cell_type": "code",
   "execution_count": 51,
   "id": "74b4e864-dee7-4a40-bd89-660843820188",
   "metadata": {},
   "outputs": [
    {
     "name": "stdout",
     "output_type": "stream",
     "text": [
      "[(4, 1), (3, 2), (5, 3), (1, 5), (2, 8)]\n"
     ]
    }
   ],
   "source": [
    "# List of tuples\n",
    "data = [(1, 5), (3, 2), (2, 8), (4, 1), (5, 3)]\n",
    "\n",
    "# Sort the list based on the second element of each tuple\n",
    "sorted_data = sorted(data, key=lambda x: x[1])\n",
    "\n",
    "# Print the sorted list\n",
    "print(sorted_data)"
   ]
  },
  {
   "cell_type": "markdown",
   "id": "25c01e12-03b4-4d44-8d7a-b7eb1af0008e",
   "metadata": {},
   "source": [
    "In this example, the lambda function `lambda x: x[1]` is used as the key to `sorted()`. It specifies that the sorting should be based on the second element (`x[1]`) of each tuple in the list of tuples `data`. The result will be a new list, `sorted_data`, containing the tuples sorted in ascending order based on their second elements.\n",
    "\n",
    "\n",
    "As you can see, the list is sorted based on the second element of each tuple in ascending order."
   ]
  },
  {
   "cell_type": "markdown",
   "id": "8b92a15d-b406-49f3-abaf-3bc8eabdd892",
   "metadata": {},
   "source": [
    "3. Explain the concept of higher-order functions in Python, and provide an example."
   ]
  },
  {
   "cell_type": "markdown",
   "id": "c96c6dfb-dfaf-4ef4-824d-8781ffe53554",
   "metadata": {},
   "source": [
    "In Python, higher-order functions are functions that can accept other functions as arguments, return functions as values, or both. This concept is a fundamental part of functional programming and allows you to work with functions in a more flexible and abstract way. Higher-order functions enable you to create more modular and reusable code.\n",
    "\n",
    "Here's an example to illustrate the concept of higher-order functions in Python:"
   ]
  },
  {
   "cell_type": "code",
   "execution_count": 52,
   "id": "1904f11c-10fb-4387-bfa9-fe4bcb65109d",
   "metadata": {},
   "outputs": [
    {
     "name": "stdout",
     "output_type": "stream",
     "text": [
      "25\n",
      "14\n"
     ]
    }
   ],
   "source": [
    "# Higher-order function that takes a function as an argument\n",
    "def apply_function(func, value):\n",
    "    return func(value)\n",
    "\n",
    "# Example functions to be used with apply_function\n",
    "def square(x):\n",
    "    return x ** 2\n",
    "\n",
    "def double(x):\n",
    "    return x * 2\n",
    "\n",
    "# Using the apply_function with different functions\n",
    "result1 = apply_function(square, 5)  # Calls square(5), result1 = 25\n",
    "result2 = apply_function(double, 7)  # Calls double(7), result2 = 14\n",
    "\n",
    "print(result1)\n",
    "print(result2)"
   ]
  },
  {
   "cell_type": "markdown",
   "id": "b7cbc4b0-1306-4f4b-90d5-28550ae95179",
   "metadata": {},
   "source": [
    "In this example:\n",
    "\n",
    "1. `apply_function` is a higher-order function that takes two arguments: `func` (a function) and `value` (a value to be processed by the function).\n",
    "2. `square` and `double` are example functions that can be passed as arguments to `apply_function`.\n",
    "3. We call `apply_function` twice, passing different functions (`square` and `double`) along with their respective values. The `apply_function` applies the provided function to the given value and returns the result.\n",
    "\n",
    "The output of the program will be:\n",
    "\n",
    "```\n",
    "25\n",
    "14\n",
    "```\n",
    "\n",
    "This demonstrates how you can use higher-order functions to abstract the application of functions, making your code more versatile and adaptable. Higher-order functions are commonly used in Python when working with functions like `map()`, `filter()`, and `sorted()`, which accept other functions as arguments."
   ]
  },
  {
   "cell_type": "markdown",
   "id": "7b4aebac-8656-40e4-ac8e-d43b3892724b",
   "metadata": {},
   "source": [
    "4. Create a Python function that takes a list of numbers and a function as arguments, applying the function to each element in the list."
   ]
  },
  {
   "cell_type": "code",
   "execution_count": 53,
   "id": "fd28b0ce-d855-4e4b-b1df-f2dcafb331d7",
   "metadata": {},
   "outputs": [
    {
     "name": "stdout",
     "output_type": "stream",
     "text": [
      "Squared numbers: [1, 4, 9, 16, 25]\n",
      "Doubled numbers: [2, 4, 6, 8, 10]\n"
     ]
    }
   ],
   "source": [
    "def apply_function_to_list(func, num_list):\n",
    "    \"\"\"\n",
    "    Apply a given function to each element in a list.\n",
    "\n",
    "    Args:\n",
    "    func: The function to apply to each element.\n",
    "    num_list: The list of numbers.\n",
    "\n",
    "    Returns:\n",
    "    A list containing the results of applying the function to each element.\n",
    "    \"\"\"\n",
    "    result = []\n",
    "    for num in num_list:\n",
    "        result.append(func(num))\n",
    "    return result\n",
    "\n",
    "# Example functions to use with apply_function_to_list\n",
    "def square(x):\n",
    "    return x ** 2\n",
    "\n",
    "def double(x):\n",
    "    return x * 2\n",
    "\n",
    "# List of numbers\n",
    "numbers = [1, 2, 3, 4, 5]\n",
    "\n",
    "# Applying square function to the list\n",
    "squared_numbers = apply_function_to_list(square, numbers)\n",
    "print(\"Squared numbers:\", squared_numbers)\n",
    "\n",
    "# Applying double function to the list\n",
    "doubled_numbers = apply_function_to_list(double, numbers)\n",
    "print(\"Doubled numbers:\", doubled_numbers)"
   ]
  },
  {
   "cell_type": "markdown",
   "id": "ea9dac5c-6d1a-4708-b957-56941e3aaade",
   "metadata": {},
   "source": [
    "In this code:\n",
    "\n",
    "- `apply_function_to_list` is a higher-order function that accepts two arguments: `func` (the function to apply) and `num_list` (the list of numbers to process).\n",
    "- Inside the function, we iterate through the elements of `num_list` and apply the provided `func` to each element, storing the results in the `result` list.\n",
    "- Finally, the function returns the `result` list containing the processed values."
   ]
  },
  {
   "cell_type": "markdown",
   "id": "53cfda17-ba52-42aa-bfaf-f2f17c6827c1",
   "metadata": {},
   "source": [
    "# Built-in Functions:"
   ]
  },
  {
   "cell_type": "markdown",
   "id": "1010c553-a7b4-44c8-96fa-db842eec9958",
   "metadata": {},
   "source": [
    "1. Describe the role of built-in functions like `len()`, `max()`, and `min()` in Python."
   ]
  },
  {
   "cell_type": "markdown",
   "id": "09392705-76a6-4659-83b7-0a4fce2cb7f8",
   "metadata": {},
   "source": [
    "Built-in functions like `len()`, `max()`, and `min()` in Python serve specific roles for common operations:\n",
    "\n",
    "1. `len()`: The `len()` function is used to determine the length or the number of elements in a data structure, such as a string, list, tuple, or dictionary. It returns the count of elements within the specified data structure.\n",
    "\n",
    "   Example:"
   ]
  },
  {
   "cell_type": "code",
   "execution_count": 55,
   "id": "10a88a58-9c8f-4811-95c2-e95a3d495636",
   "metadata": {},
   "outputs": [
    {
     "name": "stdout",
     "output_type": "stream",
     "text": [
      "13\n"
     ]
    }
   ],
   "source": [
    "my_string = \"Hello, World!\"\n",
    "length = len(my_string)\n",
    "print(length)  # Output: 13"
   ]
  },
  {
   "cell_type": "markdown",
   "id": "94bd1159-75c5-4ec4-9855-bd5335f81d6b",
   "metadata": {},
   "source": [
    "2. `max()`: The `max()` function is used to find the maximum value among a collection of values, such as a list or tuple. It returns the largest element from the provided collection.\n",
    "\n",
    "Example:"
   ]
  },
  {
   "cell_type": "code",
   "execution_count": 56,
   "id": "c0610136-4577-47dc-8b5c-74d58c2b693c",
   "metadata": {},
   "outputs": [
    {
     "name": "stdout",
     "output_type": "stream",
     "text": [
      "9\n"
     ]
    }
   ],
   "source": [
    "numbers = [3, 7, 1, 9, 4]\n",
    "maximum = max(numbers)\n",
    "print(maximum)  # Output: 9"
   ]
  },
  {
   "cell_type": "markdown",
   "id": "ba1a639e-3002-46dc-8166-c9d620624e82",
   "metadata": {},
   "source": [
    "3. `min()`: The `min()` function is used to find the minimum value among a collection of values, similar to `max()`. It returns the smallest element from the provided collection.\n",
    "\n",
    "Example:"
   ]
  },
  {
   "cell_type": "code",
   "execution_count": 57,
   "id": "163eaba4-d1d3-4590-a130-fe849604ceda",
   "metadata": {},
   "outputs": [
    {
     "name": "stdout",
     "output_type": "stream",
     "text": [
      "1\n"
     ]
    }
   ],
   "source": [
    "numbers = [3, 7, 1, 9, 4]\n",
    "minimum = min(numbers)\n",
    "print(minimum)  # Output: 1"
   ]
  },
  {
   "cell_type": "markdown",
   "id": "b88e1496-955a-4d20-9d80-a5f50c6c6767",
   "metadata": {},
   "source": [
    "These built-in functions are convenient and efficient for performing common tasks in Python, making code more readable and concise. They are versatile and can be used with various data types, allowing you to work with different types of data effortlessly."
   ]
  },
  {
   "cell_type": "markdown",
   "id": "66b82ce0-0d9e-4941-a920-1a142d74b826",
   "metadata": {},
   "source": [
    "2. Write a Python program that uses the `map()` function to apply a function to each element of a list."
   ]
  },
  {
   "cell_type": "code",
   "execution_count": 58,
   "id": "715a3b0a-60c8-4497-ae5b-ebe13416362a",
   "metadata": {},
   "outputs": [
    {
     "name": "stdout",
     "output_type": "stream",
     "text": [
      "[2, 4, 6, 8, 10]\n"
     ]
    }
   ],
   "source": [
    "# Define a function to double a number\n",
    "def double(x):\n",
    "    return x * 2\n",
    "\n",
    "# Create a list of numbers\n",
    "numbers = [1, 2, 3, 4, 5]\n",
    "\n",
    "# Use the map() function to double each number in the list\n",
    "doubled_numbers = map(double, numbers)\n",
    "\n",
    "# Convert the result back to a list (optional, as map returns an iterable)\n",
    "doubled_numbers_list = list(doubled_numbers)\n",
    "\n",
    "# Print the doubled numbers\n",
    "print(doubled_numbers_list)  # Output: [2, 4, 6, 8, 10]"
   ]
  },
  {
   "cell_type": "markdown",
   "id": "eb71a986-a4dc-4818-9343-a08171b7094f",
   "metadata": {},
   "source": [
    "In this example, the `double()` function is defined to double a number, and the `map()` function is used to apply this function to each element in the `numbers` list. The result is an iterable, which can be converted back to a list if needed."
   ]
  },
  {
   "cell_type": "markdown",
   "id": "6224db4e-552a-4478-bd56-ec2daf1963f6",
   "metadata": {},
   "source": [
    "3. How does the `filter()` function work in Python, and when would you use it?"
   ]
  },
  {
   "cell_type": "markdown",
   "id": "50e7b455-ffdf-4c31-a75d-ebceeb6e8505",
   "metadata": {},
   "source": [
    "The `filter()` function in Python is used to filter elements from an iterable (e.g., a list) based on a specified condition or function. It returns an iterable containing the elements that satisfy the given condition.\n",
    "\n",
    "Here's the basic syntax of the `filter()` function:\n",
    "\n",
    "```python\n",
    "filter(function, iterable)\n",
    "```\n",
    "\n",
    "- `function`: This is a function that defines the condition for filtering. It should return `True` for the elements you want to keep and `False` for those you want to discard.\n",
    "- `iterable`: This is the iterable (e.g., a list) from which you want to filter elements.\n",
    "\n",
    "The `filter()` function applies the specified function to each element in the iterable and keeps only those elements for which the function returns `True`.\n",
    "\n",
    "Here's an example of how to use the `filter()` function to filter even numbers from a list:"
   ]
  },
  {
   "cell_type": "code",
   "execution_count": 59,
   "id": "e1cb4301-f569-4d7b-a37f-bcd0b1674e24",
   "metadata": {},
   "outputs": [
    {
     "name": "stdout",
     "output_type": "stream",
     "text": [
      "[2, 4, 6, 8, 10]\n"
     ]
    }
   ],
   "source": [
    "# Define a function to check if a number is even\n",
    "def is_even(x):\n",
    "    return x % 2 == 0\n",
    "\n",
    "# Create a list of numbers\n",
    "numbers = [1, 2, 3, 4, 5, 6, 7, 8, 9, 10]\n",
    "\n",
    "# Use the filter() function to filter even numbers\n",
    "even_numbers = filter(is_even, numbers)\n",
    "\n",
    "# Convert the result back to a list (optional, as filter returns an iterable)\n",
    "even_numbers_list = list(even_numbers)\n",
    "\n",
    "# Print the filtered even numbers\n",
    "print(even_numbers_list)  # Output: [2, 4, 6, 8, 10]"
   ]
  },
  {
   "cell_type": "markdown",
   "id": "5161a04b-2aa5-4c5b-a14e-09e7da16ac5d",
   "metadata": {},
   "source": [
    "In this example, the `is_even()` function checks if a number is even, and the `filter()` function is used to filter the even numbers from the `numbers` list.\n",
    "\n",
    "You would use the `filter()` function when you need to selectively extract elements from an iterable based on a specific condition or criterion. It's a convenient way to filter data without manually iterating through the iterable and building a new list."
   ]
  },
  {
   "cell_type": "markdown",
   "id": "2a8c94da-f0a8-4fdd-bf20-3bba40a95fdc",
   "metadata": {},
   "source": [
    "4. Create a Python program that uses the `reduce()` function to find the product of all elements in a list."
   ]
  },
  {
   "cell_type": "markdown",
   "id": "800433fe-8b61-4875-8d1c-181a4728732d",
   "metadata": {},
   "source": [
    "To find the product of all elements in a list using the `reduce()` function, you'll need to import the `reduce` function from the `functools` module. Here's a Python program to accomplish this:"
   ]
  },
  {
   "cell_type": "code",
   "execution_count": 60,
   "id": "ef35e576-a618-4b8f-be41-3336e7623c02",
   "metadata": {},
   "outputs": [
    {
     "name": "stdout",
     "output_type": "stream",
     "text": [
      "Product: 120\n"
     ]
    }
   ],
   "source": [
    "from functools import reduce\n",
    "\n",
    "# Define a function to multiply two numbers\n",
    "def multiply(x, y):\n",
    "    return x * y\n",
    "\n",
    "# Create a list of numbers\n",
    "numbers = [1, 2, 3, 4, 5]\n",
    "\n",
    "# Use the reduce() function to find the product\n",
    "product = reduce(multiply, numbers)\n",
    "\n",
    "# Print the result\n",
    "print(\"Product:\", product)"
   ]
  },
  {
   "cell_type": "markdown",
   "id": "5a5cfdea-b551-4aa2-8e34-4a18177cfc1b",
   "metadata": {},
   "source": [
    "In this program:\n",
    "\n",
    "1. We import the `reduce` function from the `functools` module.\n",
    "2. We define a `multiply` function that takes two arguments and returns their product.\n",
    "3. We create a list of numbers.\n",
    "4. We use the `reduce()` function to apply the `multiply` function cumulatively to the elements of the `numbers` list. This effectively calculates the product of all elements.\n",
    "5. Finally, we print the result, which is the product of all elements in the list.\n",
    "\n",
    "When you run this program, it will calculate and print the product of the numbers `[1, 2, 3, 4, 5]`, which is `120`."
   ]
  },
  {
   "cell_type": "markdown",
   "id": "a9523209-8185-4274-aa9a-6c6a865b0239",
   "metadata": {},
   "source": [
    "# Function Documentation and Best Practices:"
   ]
  },
  {
   "cell_type": "markdown",
   "id": "9d56f8d8-986c-4fb0-8a3a-9f7ede037b37",
   "metadata": {},
   "source": [
    "1. Explain the purpose of docstrings in Python functions and how to write them."
   ]
  },
  {
   "cell_type": "markdown",
   "id": "2e559b34-13b0-493d-b7ab-071a005c9d14",
   "metadata": {},
   "source": [
    "Docstrings in Python functions serve as documentation for the function. They provide information about the function's purpose, parameters, return values, and usage. Docstrings are particularly useful for developers who want to understand how to use a function and for tools like automated documentation generators.\n",
    "\n",
    "You can write docstrings by enclosing your documentation text within triple quotes (either single or double) immediately after defining a function. There are different conventions for writing docstrings in Python, but one common convention is to use triple double-quotes (`\"\"\"`) for docstrings. Here's an example:"
   ]
  },
  {
   "cell_type": "code",
   "execution_count": null,
   "id": "a12f3cd6-11d6-43a1-853e-0bff49f2ed3c",
   "metadata": {},
   "outputs": [],
   "source": [
    "def add(a, b):\n",
    "    \"\"\"\n",
    "    This function takes two numbers as input and returns their sum.\n",
    "\n",
    "    Parameters:\n",
    "    a (int): The first number.\n",
    "    b (int): The second number.\n",
    "\n",
    "    Returns:\n",
    "    int: The sum of a and b.\n",
    "    \"\"\"\n",
    "    return a + b"
   ]
  },
  {
   "cell_type": "markdown",
   "id": "adb2f18d-31ae-4c9c-8719-23af11d307b8",
   "metadata": {},
   "source": [
    "In this example:\n",
    "\n",
    "- The docstring is enclosed in triple double-quotes (`\"\"\"`).\n",
    "- It begins with a brief description of the function's purpose.\n",
    "- The `Parameters` section describes the function's input arguments (`a` and `b`) and provides information about their data types.\n",
    "- The `Returns` section describes the data type of the return value and what it represents.\n",
    "\n",
    "You can access the docstring of a function using the `.__doc__` attribute. For example:\n",
    "\n",
    "```python\n",
    "print(add.__doc__)\n",
    "```\n",
    "\n",
    "This will output the docstring of the `add` function, allowing you to view the function's documentation.\n",
    "\n",
    "Writing clear and informative docstrings is a good practice to make your code more understandable and maintainable, especially when working on collaborative projects or when writing reusable code."
   ]
  },
  {
   "cell_type": "markdown",
   "id": "90887ec4-3275-425a-8a16-d66919438eeb",
   "metadata": {},
   "source": [
    "Q 2. Describe some best practices for naming functions and variables in Python, including naming conventions and guidelines."
   ]
  },
  {
   "cell_type": "markdown",
   "id": "95c854f6-2424-4b11-bca0-fc56007c435a",
   "metadata": {},
   "source": [
    "Naming functions and variables in Python is essential for writing clean, readable, and maintainable code. Following naming conventions and guidelines is a best practice to ensure that your code is easy to understand and collaborate on. Here are some best practices for naming functions and variables in Python:\n",
    "\n",
    "**1. Use Descriptive Names:**\n",
    "   - Choose names that describe the purpose or functionality of the function or variable. Names should make the code self-explanatory.\n",
    "   - Avoid single-letter variable names (e.g., `x`, `i`) unless they are used for iteration or well-known mathematical purposes.\n",
    "\n",
    "**2. Follow PEP 8:**\n",
    "   - PEP 8 is the official Python style guide, and it provides naming conventions for functions and variables.\n",
    "   - Function names should be lowercase with words separated by underscores (snake_case). For example: `calculate_average`.\n",
    "   - Variable names should also be in lowercase with words separated by underscores. For example: `total_score`.\n",
    "   - Constants (variables that should not be modified) should be in uppercase with underscores. For example: `MAX_VALUE`.\n",
    "\n",
    "**3. Use Verb-Noun Pairing:**\n",
    "   - For function names, it's often a good practice to use a verb-noun pairing that describes the action performed by the function followed by the object it acts on. For example: `calculate_average`, `find_max_value`.\n",
    "\n",
    "**4. Be Consistent:**\n",
    "   - Maintain consistency in naming throughout your codebase. If you use a specific naming convention or style, stick to it consistently.\n",
    "\n",
    "**5. Avoid Reserved Words:**\n",
    "   - Do not use Python's reserved words (e.g., `if`, `while`, `for`, `class`, `def`, `import`) as function or variable names.\n",
    "\n",
    "**6. Use Meaningful Parameters:**\n",
    "   - When defining function parameters, use descriptive names that indicate what each parameter represents. For example, instead of `f(x, y)`, use `calculate_area(length, width)`.\n",
    "\n",
    "**7. Avoid Ambiguous Abbreviations:**\n",
    "   - Avoid using abbreviations that may not be universally understood or may cause confusion. If an abbreviation is widely accepted (e.g., `HTML`), it's acceptable to use it.\n",
    "\n",
    "**8. Keep Names Concise:**\n",
    "   - While descriptive names are essential, avoid overly long names that make your code hard to read. Strive for a balance between clarity and brevity.\n",
    "\n",
    "**9. Use CamelCase for Classes:**\n",
    "   - Class names should follow CamelCase convention, where each word is capitalized, and there are no underscores. For example: `MyClass`, `PersonInfo`.\n",
    "\n",
    "**10. Use Plural for Collections:**\n",
    "    - When naming variables that represent collections (e.g., lists, dictionaries), use plural names to indicate that they contain multiple elements. For example: `students`, `user_names`.\n",
    "\n",
    "**11. Document Function Signatures:**\n",
    "    - Include type hints in function signatures to indicate the expected data types of parameters and the return type. This helps improve code readability and provides information to code analysis tools.\n",
    "\n",
    "**12. Refactor When Necessary:**\n",
    "    - If you find that a function or variable name no longer accurately reflects its purpose due to code changes, take the time to refactor and rename it appropriately."
   ]
  },
  {
   "cell_type": "code",
   "execution_count": 61,
   "id": "8e504f42-e520-419e-b8d1-08a19d4bedb5",
   "metadata": {},
   "outputs": [],
   "source": [
    "# Example of well-named functions and variables\n",
    "\n",
    "# Use descriptive function and variable names\n",
    "def calculate_average(scores):\n",
    "    \"\"\"\n",
    "    Calculate the average score from a list of scores.\n",
    "    \n",
    "    Args:\n",
    "        scores (list of int): List of student scores.\n",
    "        \n",
    "    Returns:\n",
    "        float: The average score.\n",
    "    \"\"\"\n",
    "    total_score = sum(scores)\n",
    "    num_students = len(scores)\n",
    "    return total_score / num_students\n",
    "\n",
    "# Follow PEP 8 naming conventions\n",
    "MAX_VALUE = 100\n",
    "class StudentRecord:\n",
    "    \"\"\"\n",
    "    A class to represent student records.\n",
    "    \"\"\"\n",
    "    pass\n",
    "\n",
    "# Use verb-noun pairing for function names\n",
    "def find_max_value(numbers):\n",
    "    \"\"\"\n",
    "    Find the maximum value in a list of numbers.\n",
    "    \n",
    "    Args:\n",
    "        numbers (list of int): List of numbers.\n",
    "        \n",
    "    Returns:\n",
    "        int: The maximum value.\n",
    "    \"\"\"\n",
    "    max_val = float('-inf')\n",
    "    for num in numbers:\n",
    "        if num > max_val:\n",
    "            max_val = num\n",
    "    return max_val\n",
    "\n",
    "# Be consistent with naming style\n",
    "user_name = \"JohnDoe\"\n",
    "user_age = 25\n",
    "\n",
    "# Use meaningful parameter names\n",
    "def calculate_area(length, width):\n",
    "    \"\"\"\n",
    "    Calculate the area of a rectangle.\n",
    "    \n",
    "    Args:\n",
    "        length (float): Length of the rectangle.\n",
    "        width (float): Width of the rectangle.\n",
    "        \n",
    "    Returns:\n",
    "        float: The area of the rectangle.\n",
    "    \"\"\"\n",
    "    return length * width\n",
    "\n",
    "# Avoid ambiguous abbreviations\n",
    "html_content = \"<html></html>\"\n",
    "\n",
    "# Use CamelCase for class names\n",
    "class PersonInfo:\n",
    "    \"\"\"\n",
    "    A class to store information about a person.\n",
    "    \"\"\"\n",
    "    pass\n",
    "\n",
    "# Use plural for collections\n",
    "students = [\"Alice\", \"Bob\", \"Charlie\"]\n",
    "\n",
    "# Include type hints in function signatures\n",
    "def greet_person(name: str) -> str:\n",
    "    \"\"\"\n",
    "    Greet a person by name.\n",
    "    \n",
    "    Args:\n",
    "        name (str): The name of the person.\n",
    "        \n",
    "    Returns:\n",
    "        str: A greeting message.\n",
    "    \"\"\"\n",
    "    return f\"Hello, {name}!\"\n",
    "\n",
    "# Refactor when necessary\n",
    "def calculate_circle_area(radius):\n",
    "    \"\"\"\n",
    "    Calculate the area of a circle.\n",
    "    \n",
    "    Args:\n",
    "        radius (float): The radius of the circle.\n",
    "        \n",
    "    Returns:\n",
    "        float: The area of the circle.\n",
    "    \"\"\"\n",
    "    # The function name has been updated to be more descriptive\n",
    "    return 3.14159 * radius ** 2\n"
   ]
  },
  {
   "cell_type": "markdown",
   "id": "7fb630a1-66fc-4c71-afda-e834b535323b",
   "metadata": {},
   "source": [
    "In this example, each function and class is documented with a docstring explaining its purpose, arguments, and return values. Docstrings help provide clear documentation for your code."
   ]
  }
 ],
 "metadata": {
  "kernelspec": {
   "display_name": "Python 3 (ipykernel)",
   "language": "python",
   "name": "python3"
  },
  "language_info": {
   "codemirror_mode": {
    "name": "ipython",
    "version": 3
   },
   "file_extension": ".py",
   "mimetype": "text/x-python",
   "name": "python",
   "nbconvert_exporter": "python",
   "pygments_lexer": "ipython3",
   "version": "3.10.8"
  }
 },
 "nbformat": 4,
 "nbformat_minor": 5
}
